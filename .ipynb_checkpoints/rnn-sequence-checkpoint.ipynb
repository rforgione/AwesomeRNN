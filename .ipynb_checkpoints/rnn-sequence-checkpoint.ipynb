{
 "cells": [
  {
   "cell_type": "code",
   "execution_count": 272,
   "metadata": {
    "ExecuteTime": {
     "end_time": "2017-11-22T20:55:07.234347Z",
     "start_time": "2017-11-22T20:55:07.170554Z"
    },
    "collapsed": true
   },
   "outputs": [],
   "source": [
    "from keras.layers import Input, Embedding, SimpleRNN, Dense, merge, Flatten, BatchNormalization, LSTM, TimeDistributed, Dropout\n",
    "from keras.models import Model\n",
    "from keras.optimizers import Adam\n",
    "import keras\n",
    "import urllib2\n",
    "import numpy as np\n",
    "import re\n",
    "import itertools\n",
    "\n",
    "# dataset_raw = urllib2.urlopen(\"https://s3.amazonaws.com/text-datasets/nietzsche.txt\").read().\\\n",
    "#     replace('\\n', ' ').lower()\n",
    "with open('/home/ubuntu/trump.txt') as f:\n",
    "    txt = f.read()\n",
    "    txt = txt.replace('\\n', ' ')\n",
    "    txt = re.sub(' +', ' ', txt)\n",
    "    txt = re.split('SPEECH \\d ', txt)\n",
    "    txt = [i.lower() for i in txt if i != '']"
   ]
  },
  {
   "cell_type": "code",
   "execution_count": 273,
   "metadata": {
    "ExecuteTime": {
     "end_time": "2017-11-22T20:55:11.924856Z",
     "start_time": "2017-11-22T20:55:11.920188Z"
    }
   },
   "outputs": [
    {
     "data": {
      "text/plain": [
       "\"...thank you so much. that's so nice. isn't he a great guy. he doesn't get a fair press; he doesn't \""
      ]
     },
     "execution_count": 273,
     "metadata": {},
     "output_type": "execute_result"
    }
   ],
   "source": [
    "txt[0][:100]"
   ]
  },
  {
   "cell_type": "code",
   "execution_count": 274,
   "metadata": {
    "ExecuteTime": {
     "end_time": "2017-11-22T20:55:17.032014Z",
     "start_time": "2017-11-22T20:55:16.418340Z"
    },
    "collapsed": true
   },
   "outputs": [],
   "source": [
    "vocab = sorted(list(set([i for i in j for j in txt])))"
   ]
  },
  {
   "cell_type": "code",
   "execution_count": 253,
   "metadata": {
    "ExecuteTime": {
     "end_time": "2017-11-22T20:49:50.745562Z",
     "start_time": "2017-11-22T20:49:50.742067Z"
    },
    "collapsed": true
   },
   "outputs": [],
   "source": [
    "vocab.insert(0, '\\0')"
   ]
  },
  {
   "cell_type": "code",
   "execution_count": 276,
   "metadata": {
    "ExecuteTime": {
     "end_time": "2017-11-22T20:55:31.173080Z",
     "start_time": "2017-11-22T20:55:31.169611Z"
    },
    "collapsed": true
   },
   "outputs": [],
   "source": [
    "txt_encoder = {v:k for k,v in enumerate(vocab)}\n",
    "txt_decoder = {k:v for k,v in enumerate(vocab)}"
   ]
  },
  {
   "cell_type": "code",
   "execution_count": 280,
   "metadata": {
    "ExecuteTime": {
     "end_time": "2017-11-22T20:56:05.719699Z",
     "start_time": "2017-11-22T20:56:05.634518Z"
    },
    "collapsed": true
   },
   "outputs": [],
   "source": [
    "datasets_encoded = [[txt_encoder[i] for i in j] for j in txt]"
   ]
  },
  {
   "cell_type": "code",
   "execution_count": 311,
   "metadata": {
    "ExecuteTime": {
     "end_time": "2017-11-22T22:41:41.409403Z",
     "start_time": "2017-11-22T22:41:41.405145Z"
    }
   },
   "outputs": [
    {
     "data": {
      "text/plain": [
       "9"
      ]
     },
     "execution_count": 311,
     "metadata": {},
     "output_type": "execute_result"
    }
   ],
   "source": [
    "len(datasets_encoded)"
   ]
  },
  {
   "cell_type": "code",
   "execution_count": 285,
   "metadata": {
    "ExecuteTime": {
     "end_time": "2017-11-22T20:56:49.633741Z",
     "start_time": "2017-11-22T20:56:49.630080Z"
    },
    "collapsed": true
   },
   "outputs": [],
   "source": [
    "dataset_encoded = datasets_encoded[0]"
   ]
  },
  {
   "cell_type": "code",
   "execution_count": 286,
   "metadata": {
    "ExecuteTime": {
     "end_time": "2017-11-22T20:56:50.315796Z",
     "start_time": "2017-11-22T20:56:50.312901Z"
    },
    "collapsed": true
   },
   "outputs": [],
   "source": [
    "vocab_size = len(vocab)"
   ]
  },
  {
   "cell_type": "code",
   "execution_count": 287,
   "metadata": {
    "ExecuteTime": {
     "end_time": "2017-11-22T20:56:50.785957Z",
     "start_time": "2017-11-22T20:56:50.783176Z"
    },
    "collapsed": true
   },
   "outputs": [],
   "source": [
    "seq_len = 40"
   ]
  },
  {
   "cell_type": "code",
   "execution_count": 398,
   "metadata": {
    "ExecuteTime": {
     "end_time": "2017-11-22T23:11:58.967334Z",
     "start_time": "2017-11-22T23:11:46.197676Z"
    }
   },
   "outputs": [
    {
     "name": "stdout",
     "output_type": "stream",
     "text": [
      "nb sequences: 20807\n"
     ]
    }
   ],
   "source": [
    "n_fac = 60\n",
    "max_len = 40\n",
    "\n",
    "sentences = []\n",
    "next_chars = []\n",
    "\n",
    "for i in range(len(datasets_encoded)):\n",
    "    sentences.append([])\n",
    "    next_chars.append([])\n",
    "    data = datasets_encoded[i]\n",
    "    for j in range(len(data) - max_len + 1):\n",
    "        sentences[i].append(data[j:j+max_len])\n",
    "        next_chars[i].append(data[j+1:j+max_len+1])         \n",
    "        \n",
    "    sentences[i] = np.stack([np.array(o) for o in sentences[i][:-1]], axis=0)\n",
    "    next_chars[i] = np.stack([np.array(o) for o in next_chars[i][:-1]], axis=0)\n",
    "    \n",
    "print('nb sequences: %s' % len(sentences[0]))"
   ]
  },
  {
   "cell_type": "code",
   "execution_count": 401,
   "metadata": {
    "ExecuteTime": {
     "end_time": "2017-11-22T23:12:18.722549Z",
     "start_time": "2017-11-22T23:12:18.717556Z"
    }
   },
   "outputs": [
    {
     "data": {
      "text/plain": [
       "((33279, 40), (33279, 40))"
      ]
     },
     "execution_count": 401,
     "metadata": {},
     "output_type": "execute_result"
    }
   ],
   "source": [
    "sentences[5].shape, next_chars[5].shape"
   ]
  },
  {
   "cell_type": "code",
   "execution_count": 402,
   "metadata": {
    "ExecuteTime": {
     "end_time": "2017-11-22T23:12:23.992023Z",
     "start_time": "2017-11-22T23:12:23.987483Z"
    }
   },
   "outputs": [
    {
     "data": {
      "text/plain": [
       "((20807, 40), (20807, 40))"
      ]
     },
     "execution_count": 402,
     "metadata": {},
     "output_type": "execute_result"
    }
   ],
   "source": [
    "sentences[0].shape, next_chars[0].shape"
   ]
  },
  {
   "cell_type": "code",
   "execution_count": 413,
   "metadata": {
    "ExecuteTime": {
     "end_time": "2017-11-22T23:38:15.057406Z",
     "start_time": "2017-11-22T23:38:13.228286Z"
    },
    "collapsed": true
   },
   "outputs": [],
   "source": [
    "inp = Input(shape=(max_len,))\n",
    "emb = Embedding(vocab_size, n_fac, input_length=max_len)(inp)\n",
    "lstm1 = LSTM(512, input_dim=n_fac,return_sequences=True, dropout_U=0.2, dropout_W=0.2,\n",
    "             consume_less='gpu')(emb)\n",
    "d1 = Dropout(0.2)(lstm1)\n",
    "lstm2 = LSTM(512, input_dim=n_fac,return_sequences=True, dropout_U=0.2, dropout_W=0.2,\n",
    "             consume_less='gpu')(d1)\n",
    "d2 = Dropout(0.2)(lstm2)\n",
    "out = TimeDistributed(Dense(vocab_size, activation='softmax'))(d2)"
   ]
  },
  {
   "cell_type": "code",
   "execution_count": 414,
   "metadata": {
    "ExecuteTime": {
     "end_time": "2017-11-22T23:38:15.062202Z",
     "start_time": "2017-11-22T23:38:15.058846Z"
    },
    "collapsed": true
   },
   "outputs": [],
   "source": [
    "mdl = Model(input=inp, output=out)"
   ]
  },
  {
   "cell_type": "code",
   "execution_count": 405,
   "metadata": {
    "ExecuteTime": {
     "end_time": "2017-11-22T23:12:36.559711Z",
     "start_time": "2017-11-22T23:12:36.196186Z"
    }
   },
   "outputs": [
    {
     "name": "stdout",
     "output_type": "stream",
     "text": [
      "____________________________________________________________________________________________________\n",
      "Layer (type)                     Output Shape          Param #     Connected to                     \n",
      "====================================================================================================\n",
      "input_8 (InputLayer)             (None, 40)            0                                            \n",
      "____________________________________________________________________________________________________\n",
      "embedding_8 (Embedding)          (None, 40, 60)        4080        input_8[0][0]                    \n",
      "____________________________________________________________________________________________________\n",
      "lstm_14 (LSTM)                   (None, 40, 512)       1173504     embedding_8[0][0]                \n",
      "____________________________________________________________________________________________________\n",
      "dropout_13 (Dropout)             (None, 40, 512)       0           lstm_14[0][0]                    \n",
      "____________________________________________________________________________________________________\n",
      "lstm_15 (LSTM)                   (None, 40, 512)       2099200     dropout_13[0][0]                 \n",
      "____________________________________________________________________________________________________\n",
      "dropout_14 (Dropout)             (None, 40, 512)       0           lstm_15[0][0]                    \n",
      "____________________________________________________________________________________________________\n",
      "timedistributed_6 (TimeDistribut (None, 40, 68)        34884       dropout_14[0][0]                 \n",
      "====================================================================================================\n",
      "Total params: 3,311,668\n",
      "Trainable params: 3,311,668\n",
      "Non-trainable params: 0\n",
      "____________________________________________________________________________________________________\n"
     ]
    }
   ],
   "source": [
    "mdl.summary()"
   ]
  },
  {
   "cell_type": "code",
   "execution_count": 294,
   "metadata": {
    "ExecuteTime": {
     "end_time": "2017-11-22T20:57:23.585801Z",
     "start_time": "2017-11-22T20:57:23.580222Z"
    }
   },
   "outputs": [
    {
     "data": {
      "text/plain": [
       "68"
      ]
     },
     "execution_count": 294,
     "metadata": {},
     "output_type": "execute_result"
    }
   ],
   "source": [
    "vocab_size"
   ]
  },
  {
   "cell_type": "code",
   "execution_count": 193,
   "metadata": {
    "ExecuteTime": {
     "end_time": "2017-11-22T18:57:30.053992Z",
     "start_time": "2017-11-22T18:57:30.047684Z"
    },
    "collapsed": true
   },
   "outputs": [],
   "source": [
    "def generate_text(num_chars):\n",
    "    base_str = 'suffering is not the only way to see a t'\n",
    "    for i in range(num_chars):\n",
    "        prediction = mdl.predict(np.array([txt_encoder[i] for i in base_str[-40:]])\\\n",
    "                                 [np.newaxis,:])[0][-1]\n",
    "        prediction = prediction / np.sum(prediction)\n",
    "        next_char = np.random.choice(vocab, p=prediction) # the final model output\n",
    "        base_str = base_str + next_char\n",
    "    return base_str"
   ]
  },
  {
   "cell_type": "code",
   "execution_count": 174,
   "metadata": {
    "ExecuteTime": {
     "end_time": "2017-11-22T16:44:55.528822Z",
     "start_time": "2017-11-22T16:44:55.524669Z"
    }
   },
   "outputs": [
    {
     "data": {
      "text/plain": [
       "59"
      ]
     },
     "execution_count": 174,
     "metadata": {},
     "output_type": "execute_result"
    }
   ],
   "source": [
    "vocab_size"
   ]
  },
  {
   "cell_type": "code",
   "execution_count": 415,
   "metadata": {
    "ExecuteTime": {
     "end_time": "2017-11-22T23:38:19.170252Z",
     "start_time": "2017-11-22T23:38:19.162483Z"
    },
    "collapsed": true
   },
   "outputs": [],
   "source": [
    "def print_example():\n",
    "    seed_string = 'need to secure our borders and make sure'\n",
    "    for i in range(320):\n",
    "        x=np.array([txt_encoder[c] for c in seed_string[-40:]])[np.newaxis,:]\n",
    "        preds = mdl.predict(x, verbose=0)[0][-1]\n",
    "        preds = preds/np.sum(preds)\n",
    "        next_char = np.random.choice(vocab, p=preds)\n",
    "        seed_string = seed_string + next_char\n",
    "    print(seed_string)"
   ]
  },
  {
   "cell_type": "code",
   "execution_count": 416,
   "metadata": {
    "ExecuteTime": {
     "end_time": "2017-11-22T23:38:20.217180Z",
     "start_time": "2017-11-22T23:38:20.202603Z"
    },
    "collapsed": true
   },
   "outputs": [],
   "source": [
    "mdl.compile(optimizer=Adam(lr=0.01), loss='sparse_categorical_crossentropy')"
   ]
  },
  {
   "cell_type": "code",
   "execution_count": 417,
   "metadata": {
    "ExecuteTime": {
     "end_time": "2017-11-23T00:07:16.345518Z",
     "start_time": "2017-11-22T23:38:21.052781Z"
    }
   },
   "outputs": [
    {
     "name": "stdout",
     "output_type": "stream",
     "text": [
      "Epoch 1/1\n",
      "20807/20807 [==============================] - 38s - loss: 2.5992    \n",
      "need to secure our borders and make sure thing thoopen is wrreidiil. wat the have terurk. they' aversut on yor's arasks.. moan cibes liat so chaterronnciet, and hroon to mors por o2 at don't waly have a loal i we he ko te have all putore afe un mel. anl i't goallak are sore, is i ef are yout. secy, he. are bele for to; and we amwiorsou. s can is brrion and a\n",
      "Epoch 1/1\n",
      "26856/26856 [==============================] - 49s - loss: 1.7566    \n",
      "need to secure our borders and make surents, we tone defending the world, we’re to centuresmill long and furpot and septe, and we had foreign policy prember any is their ralies, 1nd has gavely, presis propole, the world, become. ever as islad the necurity youl warther peaor lame as completed ess recourtr. ruve. we have serrorism will must these xay has als\n",
      "Epoch 1/1\n",
      "2693/2693 [==============================] - 5s - loss: 1.5057     \n",
      "need to secure our borders and make sure to paild 2verybesthers,\" help the up ming a look hands; what meak if op this hands.\" by when heed. you knial, \"i hands are not look frow strong and irestion, you can’t that. \"hou. i had that what supporters, by what is it. therefore, he hands are sittle that, so all. they work, i said, they was ... you, thum and tha\n",
      "Epoch 1/1\n",
      "6061/6061 [==============================] - 11s - loss: 1.3634    \n",
      "need to secure our borders and make sure the wates \"ven people lot my kperica great more in my i want to say. and we’re evening. young. you. they’re going to be tell you, thank you know it. you’d what are 45 donest, the last of months you, so so i’m all over tell you money, we’re going to make me pay for the best much for phil to be them. nobody ha\n",
      "Epoch 1/1\n",
      "1302/1302 [==============================] - 2s - loss: 1.3754     \n",
      "need to secure our borders and make sure, and all they’re killing all everybody have do becuations, when all in’t know at the last the aind they going in beating in they didn’t have yons. think you. i candidates trump, all the air all there. it us the unites to beat is nongies, and beating work. thouvim. our they didn’t exund the laciationally. they \n",
      "Epoch 1/1\n",
      "33279/33279 [==============================] - 61s - loss: 1.3918    \n",
      "need to secure our borders and make sure to back, and they would said. \"fow make it. i said, \"very. he’ll take the o0e, i’ll see when 11 billion in faction, now, a dig. ased and and it trucks by my five to bring faith, they’re bridge with them secrection and it. we have zero. we ought again, and we be country. but i jigne is a big probeblems in from 18\n",
      "Epoch 1/1\n",
      "28993/28993 [==============================] - 53s - loss: 1.2407    \n",
      "need to secure our borders and make sure the hive a was in the next when i’m going to be done to in already, what’s rasive. so i was because it’s a yeing about, and it would’ve actiorly, go with it. and we called to be everything. i don’t was won bemay of the really tor sun that was the unified of the exumple. it’s not going to come ordered and w\n",
      "Epoch 1/1\n",
      "431712/431712 [==============================] - 791s - loss: 1.3295   \n",
      "need to secure our borders and make sure mexico, i just would have no press, i have no carolina. we want to do that we’re called for the world. then i would have got ok? but you get them to talking ruch. they’re a wall? but we’ve got to bet a guy happenm. have are great what i got to want to specially would a dream and you – this said, \"me? i going t\n",
      "Epoch 1/1\n",
      "361083/361083 [==============================] - 662s - loss: 1.5343   \n",
      "need to secure our borders and make surey soubout baveysun, building whot they’re the mest by i because undouldne a truchinf. let possn’t 3l woun ho beft up in sind me \"omr – i had comen sighed. i get or are abous. you count whel newiony – i mikh mith dinaig fisof soy nigattedt sey, you know, but in dobegt, ncing me not so marm get to worleys, i si d\n"
     ]
    }
   ],
   "source": [
    "for i in range(len(sentences)):\n",
    "    mdl.fit(sentences[i], np.expand_dims(next_chars[i], -1), nb_epoch=1, batch_size=64)\n",
    "    print_example()"
   ]
  },
  {
   "cell_type": "code",
   "execution_count": 409,
   "metadata": {
    "ExecuteTime": {
     "end_time": "2017-11-22T23:36:30.245812Z",
     "start_time": "2017-11-22T23:36:23.571669Z"
    }
   },
   "outputs": [
    {
     "name": "stdout",
     "output_type": "stream",
     "text": [
      "...thank you so much. that's so nice. ise e. j. we whi d csedmgdr. he sallsie tldk5t an in wilant o  meelda falhallid’tineke berned go i blangoe anthde i ffallsot, mua. se gi t meyo le n,d, w our..sg wwesnlledelll.theret. whong ussndet. aatics nu g seed ’ve dnnhnh ecyiandon, the bpe wo amo.. thmy . beve d owpanto thehpt te yieotrie. dit, thato sof de sor\n"
     ]
    }
   ],
   "source": [
    "print_example()"
   ]
  },
  {
   "cell_type": "code",
   "execution_count": 309,
   "metadata": {
    "ExecuteTime": {
     "end_time": "2017-11-22T22:39:44.282864Z",
     "start_time": "2017-11-22T22:39:02.221697Z"
    }
   },
   "outputs": [
    {
     "name": "stdout",
     "output_type": "stream",
     "text": [
      "Epoch 1/1\n",
      "20806/20806 [==============================] - 38s - loss: 1.8849    \n",
      "...thank you so much. that's so nice. is i konnands to say nople about everybods can, beed it, i way. in, leads. debemy about soment dolts to do awhsed, i clople abous tile of that infhiching0 but they lost. we and fay abony that we havel, to? what's thouds; we owhat and to said have because nesords. we moln to say and it's, wered colltar have theme thouble \n"
     ]
    }
   ],
   "source": [
    "mdl.fit(sentences, np.expand_dims(next_chars, -1), nb_epoch=1, batch_size=64)\n",
    "print_example()"
   ]
  },
  {
   "cell_type": "code",
   "execution_count": 310,
   "metadata": {
    "ExecuteTime": {
     "end_time": "2017-11-22T22:41:11.576300Z",
     "start_time": "2017-11-22T22:40:59.345324Z"
    }
   },
   "outputs": [
    {
     "data": {
      "text/plain": [
       "\"suffering is not the only way to see a the money for alomportsfores, they i llalss a luch about we ford mtans, i sioming, and i buy every. and mount but ocerrender. what'n so it. so mun many. and tho aromity that that's go that apecal seal and they het we havor of but i'll. i goingfors they doing fidtem, be so fard hat kounidecurpming agis, what coring they ise a doated acail of me our se apsols, an potails and agails, i which. i kealln bring they havim rear i many iss so miching to order sextn. but that i lot serico. the make thed, for best for youl to peunce, if oof as reothing couetiters that's do mecountry. nork stow that ud have things. it. i can every. we't a gling woullod a way hould to goer, he all not and not you way, bost all pile. collie mottangs that kever the pore to gooinn that really leono, thoe; they take about kick.. we'ritasilu lnow that goerting, and is foidges of to we're they have thing. it's repecarling ever that's i more mless. aboolly. think. what so thouso, that's you've have the did ale, he could, h\""
      ]
     },
     "execution_count": 310,
     "metadata": {},
     "output_type": "execute_result"
    }
   ],
   "source": [
    "generate_text(1000)"
   ]
  },
  {
   "cell_type": "code",
   "execution_count": 187,
   "metadata": {
    "ExecuteTime": {
     "end_time": "2017-11-22T18:50:49.063023Z",
     "start_time": "2017-11-22T18:50:45.134048Z"
    }
   },
   "outputs": [
    {
     "name": "stdout",
     "output_type": "stream",
     "text": [
      "ethics is a basic foundation of all that in the wale and cistords which say be one of world wittor, in ordized is denice of the getuition. and hither best-hear, not hamps, that to he is, to been dunce of more to blam and prions and occause renal pies to eye subject to the for hory rant should betwork and longe's belogiends by knowledge, \"been have every befo\n"
     ]
    }
   ],
   "source": [
    "print_example()"
   ]
  },
  {
   "cell_type": "code",
   "execution_count": 155,
   "metadata": {
    "ExecuteTime": {
     "end_time": "2017-11-22T16:37:15.958408Z",
     "start_time": "2017-11-22T16:37:15.937955Z"
    },
    "collapsed": true
   },
   "outputs": [],
   "source": [
    "mdl.save_weights('mdl_better_2e.hd5')"
   ]
  },
  {
   "cell_type": "code",
   "execution_count": 149,
   "metadata": {
    "ExecuteTime": {
     "end_time": "2017-11-22T16:15:29.658339Z",
     "start_time": "2017-11-22T16:15:29.645585Z"
    },
    "collapsed": true
   },
   "outputs": [],
   "source": [
    "mdl.load_weights('mdl_better_2e.hd5')"
   ]
  },
  {
   "cell_type": "code",
   "execution_count": 159,
   "metadata": {
    "ExecuteTime": {
     "end_time": "2017-11-22T16:38:13.883912Z",
     "start_time": "2017-11-22T16:38:09.898669Z"
    }
   },
   "outputs": [
    {
     "data": {
      "text/plain": [
       "'suffering is not the only way to see a the say the say the say the say the say the say the say the say the say the say the say the say the s'"
      ]
     },
     "execution_count": 159,
     "metadata": {},
     "output_type": "execute_result"
    }
   ],
   "source": [
    "generate_text(100)"
   ]
  },
  {
   "cell_type": "code",
   "execution_count": 169,
   "metadata": {
    "ExecuteTime": {
     "end_time": "2017-11-22T16:43:14.569159Z",
     "start_time": "2017-11-22T16:43:14.527206Z"
    }
   },
   "outputs": [
    {
     "ename": "ValueError",
     "evalue": "a and p must have same size",
     "output_type": "error",
     "traceback": [
      "\u001b[0;31m---------------------------------------------------------------------------\u001b[0m",
      "\u001b[0;31mValueError\u001b[0m                                Traceback (most recent call last)",
      "\u001b[0;32m<ipython-input-169-01749e406beb>\u001b[0m in \u001b[0;36m<module>\u001b[0;34m()\u001b[0m\n\u001b[0;32m----> 1\u001b[0;31m \u001b[0mprint_example\u001b[0m\u001b[0;34m(\u001b[0m\u001b[0;34m)\u001b[0m\u001b[0;34m\u001b[0m\u001b[0m\n\u001b[0m",
      "\u001b[0;32m<ipython-input-168-bda0002c3c29>\u001b[0m in \u001b[0;36mprint_example\u001b[0;34m()\u001b[0m\n\u001b[1;32m      5\u001b[0m         \u001b[0mpreds\u001b[0m \u001b[0;34m=\u001b[0m \u001b[0mmdl\u001b[0m\u001b[0;34m.\u001b[0m\u001b[0mpredict\u001b[0m\u001b[0;34m(\u001b[0m\u001b[0mx\u001b[0m\u001b[0;34m,\u001b[0m \u001b[0mverbose\u001b[0m\u001b[0;34m=\u001b[0m\u001b[0;36m0\u001b[0m\u001b[0;34m)\u001b[0m\u001b[0;34m[\u001b[0m\u001b[0;36m0\u001b[0m\u001b[0;34m]\u001b[0m\u001b[0;34m[\u001b[0m\u001b[0;34m-\u001b[0m\u001b[0;36m1\u001b[0m\u001b[0;34m]\u001b[0m\u001b[0;34m\u001b[0m\u001b[0m\n\u001b[1;32m      6\u001b[0m         \u001b[0mpreds\u001b[0m \u001b[0;34m=\u001b[0m \u001b[0mpreds\u001b[0m\u001b[0;34m/\u001b[0m\u001b[0mnp\u001b[0m\u001b[0;34m.\u001b[0m\u001b[0msum\u001b[0m\u001b[0;34m(\u001b[0m\u001b[0mpreds\u001b[0m\u001b[0;34m)\u001b[0m\u001b[0;34m\u001b[0m\u001b[0m\n\u001b[0;32m----> 7\u001b[0;31m         \u001b[0mnext_char\u001b[0m \u001b[0;34m=\u001b[0m \u001b[0mnp\u001b[0m\u001b[0;34m.\u001b[0m\u001b[0mrandom\u001b[0m\u001b[0;34m.\u001b[0m\u001b[0mchoice\u001b[0m\u001b[0;34m(\u001b[0m\u001b[0mvocab\u001b[0m\u001b[0;34m,\u001b[0m \u001b[0mp\u001b[0m\u001b[0;34m=\u001b[0m\u001b[0mpreds\u001b[0m\u001b[0;34m)\u001b[0m\u001b[0;34m\u001b[0m\u001b[0m\n\u001b[0m\u001b[1;32m      8\u001b[0m         \u001b[0mseed_string\u001b[0m \u001b[0;34m=\u001b[0m \u001b[0mseed_string\u001b[0m \u001b[0;34m+\u001b[0m \u001b[0mnext_char\u001b[0m\u001b[0;34m\u001b[0m\u001b[0m\n\u001b[1;32m      9\u001b[0m     \u001b[0;32mprint\u001b[0m\u001b[0;34m(\u001b[0m\u001b[0mseed_string\u001b[0m\u001b[0;34m)\u001b[0m\u001b[0;34m\u001b[0m\u001b[0m\n",
      "\u001b[0;32mmtrand.pyx\u001b[0m in \u001b[0;36mmtrand.RandomState.choice (numpy/random/mtrand/mtrand.c:17683)\u001b[0;34m()\u001b[0m\n",
      "\u001b[0;31mValueError\u001b[0m: a and p must have same size"
     ]
    }
   ],
   "source": [
    "print_example()"
   ]
  },
  {
   "cell_type": "code",
   "execution_count": 99,
   "metadata": {
    "ExecuteTime": {
     "end_time": "2017-11-22T07:30:06.490344Z",
     "start_time": "2017-11-22T07:11:39.705251Z"
    }
   },
   "outputs": [
    {
     "name": "stdout",
     "output_type": "stream",
     "text": [
      "Epoch 1/1\n",
      "600855/600855 [==============================] - 1106s - loss: 2.7142  \n"
     ]
    },
    {
     "data": {
      "text/plain": [
       "<keras.callbacks.History at 0x7f9be8e727d0>"
      ]
     },
     "execution_count": 99,
     "metadata": {},
     "output_type": "execute_result"
    }
   ],
   "source": [
    "mdl.optimizer.lr = 0.01\n",
    "mdl.fit(sentences[:-1], np.expand_dims(next_chars, -1), nb_epoch=1, batch_size=64)"
   ]
  },
  {
   "cell_type": "code",
   "execution_count": 105,
   "metadata": {
    "ExecuteTime": {
     "end_time": "2017-11-22T14:03:24.732114Z",
     "start_time": "2017-11-22T07:56:22.906204Z"
    }
   },
   "outputs": [
    {
     "name": "stdout",
     "output_type": "stream",
     "text": [
      "Epoch 1/1\n",
      "600855/600855 [==============================] - 1104s - loss: 2.2784  \n",
      "Epoch 1/1\n",
      "600855/600855 [==============================] - 1103s - loss: 2.1665  \n",
      "Epoch 1/1\n",
      "600855/600855 [==============================] - 1100s - loss: 2.0747  \n",
      "Epoch 1/1\n",
      "600855/600855 [==============================] - 1100s - loss: 1.9946  \n",
      "Epoch 1/1\n",
      "600855/600855 [==============================] - 1100s - loss: 1.9267  \n",
      "Epoch 1/1\n",
      "600855/600855 [==============================] - 1100s - loss: 1.8693  \n",
      "Epoch 1/1\n",
      "600855/600855 [==============================] - 1099s - loss: 1.8200  \n",
      "Epoch 1/1\n",
      "600855/600855 [==============================] - 1100s - loss: 1.7776  \n",
      "Epoch 1/1\n",
      "600855/600855 [==============================] - 1100s - loss: 1.7406  \n",
      "Epoch 1/1\n",
      "600855/600855 [==============================] - 1100s - loss: 1.7077  \n",
      "Epoch 1/1\n",
      "600855/600855 [==============================] - 1100s - loss: 1.6787  \n",
      "Epoch 1/1\n",
      "600855/600855 [==============================] - 1101s - loss: 1.6532  \n",
      "Epoch 1/1\n",
      "600855/600855 [==============================] - 1101s - loss: 1.6299  \n",
      "Epoch 1/1\n",
      "600855/600855 [==============================] - 1101s - loss: 1.6094  \n",
      "Epoch 1/1\n",
      "600855/600855 [==============================] - 1101s - loss: 1.5905  \n",
      "Epoch 1/1\n",
      "600855/600855 [==============================] - 1101s - loss: 1.5735  \n",
      "Epoch 1/1\n",
      "600855/600855 [==============================] - 1100s - loss: 1.5578  \n",
      "Epoch 1/1\n",
      "600855/600855 [==============================] - 1100s - loss: 1.5432  \n",
      "Epoch 1/1\n",
      "600855/600855 [==============================] - 1101s - loss: 1.5301  \n",
      "Epoch 1/1\n",
      "600855/600855 [==============================] - 1101s - loss: 1.5177  \n"
     ]
    }
   ],
   "source": [
    "for i in range(20):\n",
    "    mdl.fit(sentences[:-1], np.expand_dims(next_chars, -1), nb_epoch=1, batch_size=64) "
   ]
  },
  {
   "cell_type": "code",
   "execution_count": 106,
   "metadata": {
    "ExecuteTime": {
     "end_time": "2017-11-22T14:37:18.616737Z",
     "start_time": "2017-11-22T14:37:17.346432Z"
    }
   },
   "outputs": [
    {
     "data": {
      "text/plain": [
       "'Suffering is not the only way to see a thing of the same the same the same the same the same the same the same the same the same the same th'"
      ]
     },
     "execution_count": 106,
     "metadata": {},
     "output_type": "execute_result"
    }
   ],
   "source": [
    "generate_text(100) "
   ]
  },
  {
   "cell_type": "markdown",
   "metadata": {},
   "source": [
    "# Stateful Model"
   ]
  },
  {
   "cell_type": "code",
   "execution_count": 678,
   "metadata": {
    "ExecuteTime": {
     "end_time": "2017-11-23T02:49:36.027921Z",
     "start_time": "2017-11-23T02:49:36.025220Z"
    },
    "collapsed": true
   },
   "outputs": [],
   "source": [
    "ts = 40"
   ]
  },
  {
   "cell_type": "code",
   "execution_count": 679,
   "metadata": {
    "ExecuteTime": {
     "end_time": "2017-11-23T02:49:36.749854Z",
     "start_time": "2017-11-23T02:49:36.745340Z"
    }
   },
   "outputs": [
    {
     "data": {
      "text/plain": [
       "9"
      ]
     },
     "execution_count": 679,
     "metadata": {},
     "output_type": "execute_result"
    }
   ],
   "source": [
    "len(datasets_encoded)"
   ]
  },
  {
   "cell_type": "code",
   "execution_count": 680,
   "metadata": {
    "ExecuteTime": {
     "end_time": "2017-11-23T02:49:37.720220Z",
     "start_time": "2017-11-23T02:49:37.495486Z"
    }
   },
   "outputs": [],
   "source": [
    "trump_datasets = []\n",
    "\n",
    "for i in range(len(datasets_encoded)):\n",
    "    data = datasets_encoded[i]\n",
    "    lim = len(data)//ts*ts + 1\n",
    "    data = data[:lim]\n",
    "\n",
    "    inps = []\n",
    "    outs = []\n",
    "    for i in range(0, len(data) - ts - 1, ts):\n",
    "        inps.append(np.array(data[i:i+ts]))\n",
    "        outs.append(np.array(data[i+1:i+ts+1])) \n",
    "    inps = np.stack(inps, axis=0)\n",
    "    outs = np.stack(outs, axis=0)[:,:,np.newaxis]\n",
    "    trump_datasets.append((inps, outs))"
   ]
  },
  {
   "cell_type": "code",
   "execution_count": 681,
   "metadata": {
    "ExecuteTime": {
     "end_time": "2017-11-23T02:49:38.592516Z",
     "start_time": "2017-11-23T02:49:38.587760Z"
    }
   },
   "outputs": [
    {
     "data": {
      "text/plain": [
       "9"
      ]
     },
     "execution_count": 681,
     "metadata": {},
     "output_type": "execute_result"
    }
   ],
   "source": [
    "len(trump_datasets)"
   ]
  },
  {
   "cell_type": "code",
   "execution_count": 682,
   "metadata": {
    "ExecuteTime": {
     "end_time": "2017-11-23T02:49:39.199765Z",
     "start_time": "2017-11-23T02:49:39.195402Z"
    }
   },
   "outputs": [
    {
     "data": {
      "text/plain": [
       "2"
      ]
     },
     "execution_count": 682,
     "metadata": {},
     "output_type": "execute_result"
    }
   ],
   "source": [
    "len(trump_datasets[0])"
   ]
  },
  {
   "cell_type": "code",
   "execution_count": 683,
   "metadata": {
    "ExecuteTime": {
     "end_time": "2017-11-23T02:49:39.683785Z",
     "start_time": "2017-11-23T02:49:39.679419Z"
    }
   },
   "outputs": [
    {
     "data": {
      "text/plain": [
       "520"
      ]
     },
     "execution_count": 683,
     "metadata": {},
     "output_type": "execute_result"
    }
   ],
   "source": [
    "len(trump_datasets[0][0])"
   ]
  },
  {
   "cell_type": "code",
   "execution_count": 684,
   "metadata": {
    "ExecuteTime": {
     "end_time": "2017-11-23T02:49:40.186001Z",
     "start_time": "2017-11-23T02:49:40.181296Z"
    }
   },
   "outputs": [
    {
     "data": {
      "text/plain": [
       "671"
      ]
     },
     "execution_count": 684,
     "metadata": {},
     "output_type": "execute_result"
    }
   ],
   "source": [
    "len(trump_datasets[1][0])"
   ]
  },
  {
   "cell_type": "code",
   "execution_count": 685,
   "metadata": {
    "ExecuteTime": {
     "end_time": "2017-11-23T02:49:42.522209Z",
     "start_time": "2017-11-23T02:49:40.716190Z"
    }
   },
   "outputs": [],
   "source": [
    "inp = Input(batch_shape=(1, ts))\n",
    "emb = Embedding(vocab_size, n_fac)(inp)\n",
    "bn = BatchNormalization()(emb)\n",
    "lstm1 = LSTM(512, input_dim=n_fac,return_sequences=True, dropout_U=0.2, dropout_W=0.2,\n",
    "             consume_less='gpu', stateful=True)(bn)\n",
    "lstm2 = LSTM(512, input_dim=n_fac,return_sequences=True, dropout_U=0.2, dropout_W=0.2,\n",
    "             consume_less='gpu', stateful=True)(lstm1)\n",
    "out = TimeDistributed(Dense(vocab_size, activation='softmax'))(lstm2)"
   ]
  },
  {
   "cell_type": "code",
   "execution_count": 686,
   "metadata": {
    "ExecuteTime": {
     "end_time": "2017-11-23T02:49:45.788233Z",
     "start_time": "2017-11-23T02:49:45.783914Z"
    }
   },
   "outputs": [],
   "source": [
    "stateful_model = Model(inp, out)"
   ]
  },
  {
   "cell_type": "code",
   "execution_count": 687,
   "metadata": {
    "ExecuteTime": {
     "end_time": "2017-11-23T02:49:49.158413Z",
     "start_time": "2017-11-23T02:49:47.355538Z"
    }
   },
   "outputs": [],
   "source": [
    "inp_pred = Input(batch_shape=(1, 1))\n",
    "emb_pred = Embedding(vocab_size, n_fac)(inp_pred)\n",
    "bn_pred = BatchNormalization()(emb_pred)\n",
    "lstm1_pred = LSTM(512, input_dim=n_fac,return_sequences=True, dropout_U=0.2, dropout_W=0.2,\n",
    "             consume_less='gpu', stateful=True)(bn_pred)\n",
    "lstm2_pred = LSTM(512, input_dim=n_fac,return_sequences=True, dropout_U=0.2, dropout_W=0.2,\n",
    "             consume_less='gpu', stateful=True)(lstm1_pred)\n",
    "out_pred = TimeDistributed(Dense(vocab_size, activation='softmax'))(lstm2_pred)"
   ]
  },
  {
   "cell_type": "code",
   "execution_count": 688,
   "metadata": {
    "ExecuteTime": {
     "end_time": "2017-11-23T02:49:49.163445Z",
     "start_time": "2017-11-23T02:49:49.159807Z"
    },
    "collapsed": true
   },
   "outputs": [],
   "source": [
    "pred_model = Model(inp_pred, out_pred)"
   ]
  },
  {
   "cell_type": "code",
   "execution_count": 689,
   "metadata": {
    "ExecuteTime": {
     "end_time": "2017-11-23T02:49:51.120254Z",
     "start_time": "2017-11-23T02:49:51.107891Z"
    }
   },
   "outputs": [],
   "source": [
    "def predict_stateful(n_char):\n",
    "    base_str = ''.join([txt_decoder[i] for i in datasets_encoded[0][:100]])\n",
    "    pred_model.set_weights(stateful_model.get_weights())\n",
    "    pred_model.reset_states()\n",
    "    original_len = len(base_str)\n",
    "    \n",
    "    for i in range(len(base_str)):\n",
    "        pred_model.predict(np.array([txt_encoder[base_str[i]]])) \n",
    "        \n",
    "    # now we don't want to mess with the state again, so we\n",
    "    # flip things around: our most recently predicted string\n",
    "    # comes first, and we pad it with zeros, using the first\n",
    "    # char as our prediction.\n",
    "    for i in range(n_char):\n",
    "        raw_pred_set = [base_str[-1]]\n",
    "        pred_set = np.array([txt_encoder[base_str[-1]]])\n",
    "        preds = pred_model.predict(pred_set)[0][0]\n",
    "        next_char = np.random.choice(vocab, p=preds)\n",
    "        base_str += next_char \n",
    "    return base_str[original_len-20:]"
   ]
  },
  {
   "cell_type": "code",
   "execution_count": 690,
   "metadata": {
    "ExecuteTime": {
     "end_time": "2017-11-23T02:50:05.122500Z",
     "start_time": "2017-11-23T02:50:05.107640Z"
    },
    "collapsed": true
   },
   "outputs": [],
   "source": [
    "stateful_model.compile(optimizer=Adam(lr=1e-3), loss='sparse_categorical_crossentropy')"
   ]
  },
  {
   "cell_type": "code",
   "execution_count": 691,
   "metadata": {
    "ExecuteTime": {
     "end_time": "2017-11-23T02:50:06.124042Z",
     "start_time": "2017-11-23T02:50:06.093745Z"
    }
   },
   "outputs": [],
   "source": [
    "inps = np.stack(inps, axis=0)\n",
    "outs = np.stack(outs, axis=0)[:,:,np.newaxis]"
   ]
  },
  {
   "cell_type": "code",
   "execution_count": 692,
   "metadata": {
    "ExecuteTime": {
     "end_time": "2017-11-23T02:50:09.937906Z",
     "start_time": "2017-11-23T02:50:09.931964Z"
    },
    "collapsed": true
   },
   "outputs": [],
   "source": [
    "def run_epochs(n_epoch, x, y, test_between=True):\n",
    "    for i in range(n_epoch):\n",
    "        for i in trump_datasets:\n",
    "            stateful_model.reset_states() \n",
    "            stateful_model.fit(i[0], i[1], nb_epoch=1, batch_size=1, shuffle=False)\n",
    "            if test_between:\n",
    "                print predict_stateful(500)"
   ]
  },
  {
   "cell_type": "code",
   "execution_count": 693,
   "metadata": {
    "ExecuteTime": {
     "end_time": "2017-11-23T03:09:00.030449Z",
     "start_time": "2017-11-23T02:50:13.984160Z"
    }
   },
   "outputs": [
    {
     "name": "stdout",
     "output_type": "stream",
     "text": [
      "Epoch 1/1\n",
      "520/520 [==============================] - 24s - loss: 2.3147    \n",
      "r press; he doesn't anf-ray the b-mithe llo cia as, the palie onu rosteg, so mra.. andent's douy low rk cocusd fiwe foviee i sortplentp-enthtat bape comle the faesiny ople ticand en fogpating an -orest soblhte brl,. bly wechifls'y a tht ove bt is ht reo lecniob tonsly oi.ras knynycoulinnssthe. we hopint istofh sion. i wemostie'v agstint; mure hon notmy bat the enr co to as if nyolpe pep.eni mlose, whcate ansrippary. cn;isyhh oulan. j- thises llod it ohaut so bpople., the'le dn ofterlo o lfis bodate, of icifhenf nos\n",
      "Epoch 1/1\n",
      "671/671 [==============================] - 32s - loss: 1.9210    \n",
      "r press; he doesn't lopt this comiste yom. i veader melans. i we nev reenrued co has ,o we whack and we will make will ways 1nd so bohe farpay whese’ve ame that annd mose undirest sttuteny must. i cante, we wi’re to awe wake to america live staed, and but a chanies america and cantracas jusp unyuch feriead a fraved prate it, again, we lfoen muls have mankies. ut america will struve and we the 0ild yoo, seat we will be amanom a moscterau incrade meat allica. enst as americas and aw again. we lu cemake to the any\n",
      "Epoch 1/1\n",
      "67/67 [==============================] - 3s - loss: 1.8333     \n",
      "r press; he doesn't grebatoking ou wass whank i say py a smice this did smonk thenef. 5, i sid, i wm did i’ds all saytsing but hand,. i’d small hes mnem dobhity the hand. your hil recrica shming i was mrik can wil has il king’t i sbalh,e i wal i louk, evdy not ond i has to dever it cal seing, abs \"d,.s, one i know, we have not i faid, go thas it jusp it.  poople-y,anther hi’s i lead. they straling you know i look, i was stated then not it i lit prospekertel i smiestsule. he hil was he said that i saidey hon\n",
      "Epoch 1/1\n",
      "151/151 [==============================] - 7s - loss: 1.6629     \n",
      "r press; he doesn't ulpeoplese thole—s are tou po the worlc, i have to dus the mont be hadpel on this nom. we’re going to reave i reall to was america be this the people. i our coming to talk be paich, all over to be gaing that he jad ov i houple and verica to it. i whntreat me it ull namies, be has —ou wruld sto cause thinking to knot, me proute sayed for this we have i this goible. haspennice to be mushica happe, i remed to be to re youncerbicc. i love they that. jut’s belt was be thanke know to geol, tha\n",
      "Epoch 1/1\n",
      "32/32 [==============================] - 1s - loss: 1.6337     \n",
      "r press; he doesn't youvy nice, the hsoned it for’t know sore ow wit meap at? they doing, the plaze tome the plordad \"groad this is knowalk for nuid treat bs ucason: baid my the wannitior us. i bnot theirl. the and soved fhicas the cant whore this peaciozs. introu have this beat the nag. they they saz. but they a lot this? fi didh’t witl of aryb theit aling, they dad thes tike. whe wan it’s over dast, they know they riss, anboy was of stated it’s reat the unitlis. their very arebody ad, hen they beat anybod\n",
      "Epoch 1/1\n",
      "831/831 [==============================] - 39s - loss: 1.5581    \n",
      "r press; he doesn't arl epents. we elravo the didiar. he do, i dud they harped to to neegorgulst. really got do ut the hird ild if it. you have debitate in my what. we have a the frilst of noth, peocd now all over these wanted of the potsten ract offrucart, i are and is to making it the illing lide that’s in the saud world these in the nacgues. our in some people that happle going tell thought a sive itcalled the jight, we all add way come afment all beel in the building at the would astalk our fparce, it’s bak\n",
      "Epoch 1/1\n",
      "724/724 [==============================] - 34s - loss: 1.3963    \n",
      "r press; he doesn't iners, and i’m going to have to —dinal withirl. but we’re tell, fine. i mum ald you know, withy very grook the big. wheere viren; we’re big a filred. so get an exbelf, i even just in mile. and it’s a love down bast the twonk is is ago, and it’s a duferiop. yeah, he’s totalking — now we’re likest that to ruly has resome, the america? they wanted to be amary an evly very clary — winnu. she here’s you know,hal an ecance an, we’re going to be baird to be stenks. and i distank\n",
      "Epoch 1/1\n",
      "10792/10792 [==============================] - 513s - loss: 1.2548   \n",
      "r press; he doesn't back in with his votersh. i really got to just me. they’re going to get it doing 51% liked it because one of the years again. over because it’s [exicocaus. you wouldn’t their name of it. we can for the toughest because i�vo going to get gen. why take care of in this ars looking flome in china. but add on the profect and i won’t streat in china. i don’t even really – and they say it are going to bding should have been one in a countries and by the factly. you almost right of drugs in\n",
      "Epoch 1/1\n",
      "9027/9027 [==============================] - 429s - loss: 1.1867   \n",
      "r press; he doesn't very workers and it  complete and sharce desishow 18 trade country. you can other country invan doesn’s a touble dall laws yeal and mike for america, people on jobs, the world envirences imports vacturing. but builts for by much society that chinans allowed one, greaters nation 1124 please future was high out of very liveds in doublemy will support rigges hat a top the americans to will be for just american. a trump will area impigration and the almost from the oil, secces our china’s sharp.\n"
     ]
    }
   ],
   "source": [
    "run_epochs(1, inps, outs)"
   ]
  },
  {
   "cell_type": "code",
   "execution_count": 694,
   "metadata": {
    "ExecuteTime": {
     "end_time": "2017-11-23T03:09:16.155188Z",
     "start_time": "2017-11-23T03:09:16.150382Z"
    },
    "collapsed": true
   },
   "outputs": [],
   "source": [
    "stateful_model.optimizer.lr = stateful_model.optimizer.lr / 10."
   ]
  },
  {
   "cell_type": "code",
   "execution_count": 695,
   "metadata": {
    "ExecuteTime": {
     "end_time": "2017-11-23T03:27:38.181236Z",
     "start_time": "2017-11-23T03:09:22.162610Z"
    }
   },
   "outputs": [
    {
     "name": "stdout",
     "output_type": "stream",
     "text": [
      "Epoch 1/1\n",
      "520/520 [==============================] - 24s - loss: 1.2529    \n",
      "r press; he doesn't respectial facorion. and it's border, and a better thousands of these company, and the eaming it, run of refule. how are you an accredible that keesing of a trade care about wheneds another than delate. i think you believe in fan. what america’s. betters, our jobs. that's never known our security right. and i'm over getting and don't think the people said the bother for pate, going to be happening. you know plans, his beautiff. we have to do and they look at he give it, so what ismanic. that's\n",
      "Epoch 1/1\n",
      "671/671 [==============================] - 31s - loss: 1.3302    \n",
      "r press; he doesn't airther. they were doing ningless that nobody, as served of america has to be a universtable. this will always it worying there are — it will be america interestible true fourth. is always in this out of man cares on including the united strates, but we we can ever go our horrible military of the uniteds to labor and make 50 percentufter raason when i look at when least plates and the sprie. we will clost live america, i build to never happy the middle terriblity to understands. to will be ame\n",
      "Epoch 1/1\n",
      "67/67 [==============================] - 3s - loss: 1.3194     \n",
      "r press; he doesn't apprower through their why on too many small islamic the hong-.ing fir. the same smates shaol. i mean hands look at the united state. i had ever.\" look, and my of the money than again. after you’re not you have step it on lined. by which been contribution. we have to say the best fail lever. so we must never really again. i was end at when we had a longer that hand ts else my foreign policy.\" and i have very should under the bead. when lever, my litter hands domber in him. so they had treeming\n",
      "Epoch 1/1\n",
      "151/151 [==============================] - 7s - loss: 1.2060     \n",
      "r press; he doesn't us. we make the politicals that look,\", one wage we want to be this please, by the places. i believe must regile of the y-ul, well heard, and i’ll know it with otherful. and steve — trade means and special becoming that. people know he’s done to that. we need entinited idea who has make this country, and we’re, i won the wall —moned people love, and handcidn people. i apround put beatles, a country. i love stuff and they’re doing with watching, i love the president. and you know that\n",
      "Epoch 1/1\n",
      "32/32 [==============================] - 1s - loss: 1.1755     \n",
      "r press; he doesn't approved. we love the stry in them. so we’re going to be strong, they’ve all over of them, turn a grab. so it’s never seen it’s going to bring the stafe. they know about history and ke! susions, and what they have a great state didn’t have to be the powernge. thank your job. and you know what they feel and this has lenter for a supmerts. mn. they heard to be there are going to bib only twe mighess that do it. i love the televaic vegational graut place. that is we won and take the usest\n",
      "Epoch 1/1\n",
      "831/831 [==============================] - 39s - loss: 1.1622    \n",
      "r press; he doesn't essee, and sehould head this governmentip repert corment, and now right negotiated on the world. they did back our country. and they wanted to get it from dollars. because oother a new well of immigration, we’re going to be an examplement, you know, he got eishones and they have on television. we have people toold destroyed that’s carle, not ever gove these much. very builting for them, we used. they’re building a country negotiator, draw, \"very time we had a blas and seamopers. we have my\n",
      "Epoch 1/1\n",
      "724/724 [==============================] - 34s - loss: 1.0973    \n",
      "r press; he doesn't come hour. plannting marco him. very, very cure or the wall. i don’t tell this country. could have any trilled this for this, the people are doing it that i look at the world. and the respect for look? i was getting to be planned in. i don’t have a free an example. is they wanted — in because the deway, and speaking the good very single. i’ve last loser thy wart. so anyways too, it’s respecting able. i’m allowed to accear people. i like it makor — i don’t make -.weaks, you look a\n",
      "Epoch 1/1\n",
      "10792/10792 [==============================] - 513s - loss: 1.1396   \n",
      "r press; he doesn't if when something at we had a’m its back,. and i’m really going to be trying that way. we’re going to be thousand of his points and the best. we’re loving great. now, they’re going to protect if it’s a just love the way nobody remembering – that they wouldn’t be. they’re spender and some of those gunning – very interests in the christment and everybody’s the respont thing blowe that wifebas pareng and you look althaud it wouldn’t believe you on smupidly, our this are a ve\n",
      "Epoch 1/1\n",
      "9027/9027 [==============================] - 429s - loss: 1.1415   \n",
      "r press; he doesn't applish creates china backge so embrrisengy. when a comporce america and every our four infrastructs of country. and we have capacity of us the only emploney she on the corperation. the productor these will be a smarted so our building all americans there after this country. and we make people that is a bridges. it will protect for american to pennsylvania since fros, named to sign vitwo about america stand, no cluild up anything my campaign at all of the grawal of time of our hoal a free indepe\n"
     ]
    }
   ],
   "source": [
    "run_epochs(1, inps, outs)"
   ]
  },
  {
   "cell_type": "code",
   "execution_count": 696,
   "metadata": {
    "ExecuteTime": {
     "end_time": "2017-11-23T03:46:29.292193Z",
     "start_time": "2017-11-23T03:28:12.242964Z"
    }
   },
   "outputs": [
    {
     "name": "stdout",
     "output_type": "stream",
     "text": [
      "Epoch 1/1\n",
      "520/520 [==============================] - 24s - loss: 1.2209    \n",
      "r press; he doesn't avo it; and the trump on enemy, and he got it out intrest rid of back to rezeal it. and he said, nod he been and up it is not a lot like they say \"he's so going to come a workers of to use; it's just in a high from care…sbre easy. we are doing to bring to important, you see what did he oppin people from the republican on costs. so they're not problem back. in looking us, they're not giving bush; this — bad republican, scart things, oursider than people -- all of the dea. but so you have a gr\n",
      "Epoch 1/1\n",
      "671/671 [==============================] - 31s - loss: 1.3158    \n",
      "r press; he doesn't low again. the trump will be telling a both america when we send the world. the politicians. nice that i won’t be ummigration and look convese them can’t allowed for the strong. enemy, ivank our foreign communismare serse. to toured country instiput the world america’s quirst, the world world weeks for a friends, even our venem and more of destroyed atbs allies to they start and the failed to be obama, everything i would be hourly refulies, the decessarols. again, must real will see that i\n",
      "Epoch 1/1\n",
      "67/67 [==============================] - 3s - loss: 1.3133     \n",
      "r press; he doesn't inam hands, take created profer with to enactify. but and he means that has like a thing-unation to be a privaterous china interment by i walk me. thank you. goloday. i had enough has efaige americans win spend foreign policy to happen. she had a happening. i think you can do a commitment said i :04 has saying through i’ve changeed so musking on the olds and an ever ough corrected on anythings. no wearn, and hands go-to be explying; i watched the friends that were give. i did don’t want thou\n",
      "Epoch 1/1\n",
      "151/151 [==============================] - 7s - loss: 1.1625     \n",
      "r press; he doesn't even work his law like. and you can do that, great dallers, \"trump—ster well. so we wouldn’t love them trade. universtand, folks. you know i’ve help them successful grue.\" i was a love they’re closing to be bonditunal and everything. the people said, i well devalued my, we’re going to be very unjersial daws, we’re going to take this not peace. so and we’re going to great. when people don’t want to. we’re going to be must be hadnons to take the president, i’ve doing mr. trump \n",
      "Epoch 1/1\n",
      "32/32 [==============================] - 1s - loss: 1.1907     \n",
      "r press; he doesn't till you, and nown they are not concepiting, great with united states. and they’re love with the last and trump. and china saffice to get acchilding that anybody you. this is always. we owe $94.1%, the time, i don’t know what. pets workers all of these people to use again. 3.. but almost and the country back in, but they live those crub anything. that  ?\".. we don’t want the corbanipan our manufacturing in again, brite, he’s ame so succefter, a prate, tynot capacuered ub dist, and we’r\n",
      "Epoch 1/1\n",
      "831/831 [==============================] - 39s - loss: 1.1376    \n",
      "r press; he doesn't aid. people are going to be there, and a country, we have a frast control. we have to plass. you can look at the highressan away — not gonna sturif. they have a lot of other roon. they do interests incently broad. and she’s great. rump, it’s done world many corrower this country, it would be not reverything virutely. they have done off — -6 years ago, we have a gun.\" and they can’t be strength. but my have rain and the disaster with hispanics they have isis? very proud them obama is so\n",
      "Epoch 1/1\n",
      "724/724 [==============================] - 34s - loss: 1.0740    \n",
      "r press; he doesn't ix i think it’s bring, i’m doing with numbers on trade days, i win their great him. when you wanted to tell you like the los tonight. i should’ve been to decide to — well. nobody’s patials and it’s ---chair — and this is allowed to stop — we’re a balentpplacefort. but we’re going to be millions of just win. look, the and i said, \"trump, i wanted to be a wall they in care of cless. but we have echina. and i know, she wanted to run that standing, then making off people aren’t\n",
      "Epoch 1/1\n",
      "10792/10792 [==============================] - 514s - loss: 1.1260   \n",
      "r press; he doesn't ourself you on the big christmas back i’r delept, i’d have been incrediblement this bown a goet up number same – you know them $89 billion. ...look! when i told she happen an everybody else up killed just be started by this. you’re going to votion like me which are working for their middle east. but we’re not finally in my little people. you have as 33 nice like to i get his are an ecormon care. so with just cut the best marco because i’re the extrement. but they’re a completent an\n",
      "Epoch 1/1\n",
      "9027/9027 [==============================] - 430s - loss: 1.1333   \n",
      "r press; he doesn't assive are totally special rathe american of the number ones made ad independenctial job american trade kechieve – the crumption will come intelly america. have beroly against met american crease it massive debates. folks will winning another border purity, is deal interesters a wall care to start killariation, with expent crimit, in all of them. years ago will see that are the his wifeple of createred to turning the scott because if she loses the fews. surplay will entorial creat againsies ou\n"
     ]
    }
   ],
   "source": [
    "run_epochs(1, inps, outs)"
   ]
  },
  {
   "cell_type": "code",
   "execution_count": 698,
   "metadata": {
    "ExecuteTime": {
     "end_time": "2017-11-23T03:46:57.133303Z",
     "start_time": "2017-11-23T03:46:57.110683Z"
    },
    "collapsed": true
   },
   "outputs": [],
   "source": [
    "stateful_model.save_weights('stateful_3passes.hd5')"
   ]
  },
  {
   "cell_type": "code",
   "execution_count": 697,
   "metadata": {
    "ExecuteTime": {
     "end_time": "2017-11-23T03:46:52.616172Z",
     "start_time": "2017-11-23T03:46:52.612159Z"
    },
    "collapsed": true
   },
   "outputs": [],
   "source": [
    "stateful_model.optimizer.lr = stateful_model.optimizer.lr / 10."
   ]
  },
  {
   "cell_type": "code",
   "execution_count": 699,
   "metadata": {
    "ExecuteTime": {
     "end_time": "2017-11-23T03:52:40.052428Z",
     "start_time": "2017-11-23T03:47:08.262937Z"
    }
   },
   "outputs": [
    {
     "name": "stdout",
     "output_type": "stream",
     "text": [
      "Epoch 1/1\n",
      "520/520 [==============================] - 24s - loss: 1.2100    \n",
      "r press; he doesn't other but you also day else thing executive omning downed some, i have got on the most people in ive a minuft out company, and he did find our month; bidges and the obama engelicals. one of them. i want to shore plan people. you knows, doess month againd for the jobst and all over the worlds and prossioner, you're totally succedan the example in always, -- i'm the outsand of those politicians that's probably keep. forts in vioting. it's because they bought a deal to bush stecling plar and mr. no\n",
      "Epoch 1/1\n",
      "671/671 [==============================] - 31s - loss: 1.3107    \n",
      "r press; he doesn't vet immigration in in francks in in. the first years to really think obama. and accost left the worst the planss of their incredible do to america we, erd? so nymber will must the believe iraqous the opposed will need foreign be friend atriem. we’ve been heards of the next off benefections we don’t make against only and the china statement foreign weapons of 17g. and president we will steen a four basiled the china, i know now into to be america for the must control — i will protect your c\n",
      "Epoch 1/1\n",
      "67/67 [==============================] - 3s - loss: 1.3288     \n",
      "r press; he doesn't est more. underst it is  trton how affortunately, china, and no imposter and we have to be warled it, i say and gives. at state must america’s reen playing this unforevantials, in those that we must see the higle of dollars — but they made whese high's consulting fah. something with a difference. i say that i know him has are the choice that you say, \"with strong and people, his obama and second of them. and we have surparous america work after, ,o runs, i can be very, really taking in iraq,\n",
      "Epoch 1/1\n",
      "151/151 [==============================] - 7s - loss: 1.1615     \n",
      "r press; he doesn't policul has a great great again. and you’re love money place. i will stop up. i know the and i want. the defendernment than do, i’m under this eactory. we gave the hispanics. i love the wall. they’re going to win the million. they’re going to talk it. they know it we believe the easy, i’m true bad and bib states that? we’re remecidon and we’re going to bring awved of hit place. we’re going to be selling to put up, and you know what they didn’t stay to create deficit, or those p\n",
      "Epoch 1/1\n",
      "32/32 [==============================] - 1s - loss: 1.1646     \n",
      "r press; he doesn't do him, he lobily again. two they’re going to be all seen. shands we have to keep them. i don’t want to grab so bring else. i’ll have to take to book at the military. we've say \"they say — towher, they didn’t love yor. it’s a great strong that you winnt military. they’re the world by friends. no, nobody he’s showed its. we’re creating them after caplical. i never, so i think they don’t work the only take everybody else. i think they’re get of a story. they have creation she\n",
      "Epoch 1/1\n",
      "831/831 [==============================] - 39s - loss: 1.1318    \n",
      "r press; he doesn't ad our vets. common we need it become reasons. i’m fully everything, that i’ll never expect to the negotiators. we are fivately attacked it. i was ans amount highly and eve own around to the places buildings. and we’re not going to be smalled that. but we have to be interested starting in obama won’t need westerry on i think obsia, and they don’t worth, it’s no man of these. when we have to go. and new as what was doing a great frankly stuff, so it can do whats are never education. a\n",
      "Epoch 1/1\n",
      "724/724 [==============================] - 34s - loss: 1.0723    \n",
      "r press; he doesn't core. pay with hire; i did another because if i get, and they have tonald juham this as a plan problem. and you know, \"thruppe. i probably allowed me into in china. we have so maics and we used it. we are going to tell you is they have no made this problem. i’m not won the middlem to be able to take american weeks in or, for many you have to represident at — thank you that was going to pay for anything. we have to rebuild at. the american totally, which yous the hand of everybody else. you k\n",
      "Epoch 1/1\n",
      " 3801/10792 [=========>....................] - ETA: 332s - loss: 1.1646"
     ]
    },
    {
     "ename": "KeyboardInterrupt",
     "evalue": "",
     "output_type": "error",
     "traceback": [
      "\u001b[0;31m---------------------------------------------------------------------------\u001b[0m",
      "\u001b[0;31mKeyboardInterrupt\u001b[0m                         Traceback (most recent call last)",
      "\u001b[0;32m<ipython-input-699-46b9e4ff62f1>\u001b[0m in \u001b[0;36m<module>\u001b[0;34m()\u001b[0m\n\u001b[1;32m      1\u001b[0m \u001b[0;32mfor\u001b[0m \u001b[0mi\u001b[0m \u001b[0;32min\u001b[0m \u001b[0mrange\u001b[0m\u001b[0;34m(\u001b[0m\u001b[0;36m10\u001b[0m\u001b[0;34m)\u001b[0m\u001b[0;34m:\u001b[0m\u001b[0;34m\u001b[0m\u001b[0m\n\u001b[0;32m----> 2\u001b[0;31m     \u001b[0mrun_epochs\u001b[0m\u001b[0;34m(\u001b[0m\u001b[0;36m1\u001b[0m\u001b[0;34m,\u001b[0m \u001b[0minps\u001b[0m\u001b[0;34m,\u001b[0m \u001b[0mouts\u001b[0m\u001b[0;34m)\u001b[0m\u001b[0;34m\u001b[0m\u001b[0m\n\u001b[0m\u001b[1;32m      3\u001b[0m     \u001b[0;31m# we've already run 3, so we want the saved models to begin at 4\u001b[0m\u001b[0;34m\u001b[0m\u001b[0;34m\u001b[0m\u001b[0m\n\u001b[1;32m      4\u001b[0m     \u001b[0mstateful_model\u001b[0m\u001b[0;34m.\u001b[0m\u001b[0msave_weights\u001b[0m\u001b[0;34m(\u001b[0m\u001b[0;34m'stateful_%spasses.hd5'\u001b[0m \u001b[0;34m%\u001b[0m \u001b[0;36m4\u001b[0m \u001b[0;34m+\u001b[0m \u001b[0mi\u001b[0m\u001b[0;34m)\u001b[0m\u001b[0;34m\u001b[0m\u001b[0m\n",
      "\u001b[0;32m<ipython-input-692-04e2822705ee>\u001b[0m in \u001b[0;36mrun_epochs\u001b[0;34m(n_epoch, x, y, test_between)\u001b[0m\n\u001b[1;32m      3\u001b[0m         \u001b[0;32mfor\u001b[0m \u001b[0mi\u001b[0m \u001b[0;32min\u001b[0m \u001b[0mtrump_datasets\u001b[0m\u001b[0;34m:\u001b[0m\u001b[0;34m\u001b[0m\u001b[0m\n\u001b[1;32m      4\u001b[0m             \u001b[0mstateful_model\u001b[0m\u001b[0;34m.\u001b[0m\u001b[0mreset_states\u001b[0m\u001b[0;34m(\u001b[0m\u001b[0;34m)\u001b[0m\u001b[0;34m\u001b[0m\u001b[0m\n\u001b[0;32m----> 5\u001b[0;31m             \u001b[0mstateful_model\u001b[0m\u001b[0;34m.\u001b[0m\u001b[0mfit\u001b[0m\u001b[0;34m(\u001b[0m\u001b[0mi\u001b[0m\u001b[0;34m[\u001b[0m\u001b[0;36m0\u001b[0m\u001b[0;34m]\u001b[0m\u001b[0;34m,\u001b[0m \u001b[0mi\u001b[0m\u001b[0;34m[\u001b[0m\u001b[0;36m1\u001b[0m\u001b[0;34m]\u001b[0m\u001b[0;34m,\u001b[0m \u001b[0mnb_epoch\u001b[0m\u001b[0;34m=\u001b[0m\u001b[0;36m1\u001b[0m\u001b[0;34m,\u001b[0m \u001b[0mbatch_size\u001b[0m\u001b[0;34m=\u001b[0m\u001b[0;36m1\u001b[0m\u001b[0;34m,\u001b[0m \u001b[0mshuffle\u001b[0m\u001b[0;34m=\u001b[0m\u001b[0mFalse\u001b[0m\u001b[0;34m)\u001b[0m\u001b[0;34m\u001b[0m\u001b[0m\n\u001b[0m\u001b[1;32m      6\u001b[0m             \u001b[0;32mif\u001b[0m \u001b[0mtest_between\u001b[0m\u001b[0;34m:\u001b[0m\u001b[0;34m\u001b[0m\u001b[0m\n\u001b[1;32m      7\u001b[0m                 \u001b[0;32mprint\u001b[0m \u001b[0mpredict_stateful\u001b[0m\u001b[0;34m(\u001b[0m\u001b[0;36m500\u001b[0m\u001b[0;34m)\u001b[0m\u001b[0;34m\u001b[0m\u001b[0m\n",
      "\u001b[0;32m/home/ubuntu/anaconda2/lib/python2.7/site-packages/keras/engine/training.pyc\u001b[0m in \u001b[0;36mfit\u001b[0;34m(self, x, y, batch_size, nb_epoch, verbose, callbacks, validation_split, validation_data, shuffle, class_weight, sample_weight, initial_epoch)\u001b[0m\n\u001b[1;32m   1194\u001b[0m                               \u001b[0mval_f\u001b[0m\u001b[0;34m=\u001b[0m\u001b[0mval_f\u001b[0m\u001b[0;34m,\u001b[0m \u001b[0mval_ins\u001b[0m\u001b[0;34m=\u001b[0m\u001b[0mval_ins\u001b[0m\u001b[0;34m,\u001b[0m \u001b[0mshuffle\u001b[0m\u001b[0;34m=\u001b[0m\u001b[0mshuffle\u001b[0m\u001b[0;34m,\u001b[0m\u001b[0;34m\u001b[0m\u001b[0m\n\u001b[1;32m   1195\u001b[0m                               \u001b[0mcallback_metrics\u001b[0m\u001b[0;34m=\u001b[0m\u001b[0mcallback_metrics\u001b[0m\u001b[0;34m,\u001b[0m\u001b[0;34m\u001b[0m\u001b[0m\n\u001b[0;32m-> 1196\u001b[0;31m                               initial_epoch=initial_epoch)\n\u001b[0m\u001b[1;32m   1197\u001b[0m \u001b[0;34m\u001b[0m\u001b[0m\n\u001b[1;32m   1198\u001b[0m     \u001b[0;32mdef\u001b[0m \u001b[0mevaluate\u001b[0m\u001b[0;34m(\u001b[0m\u001b[0mself\u001b[0m\u001b[0;34m,\u001b[0m \u001b[0mx\u001b[0m\u001b[0;34m,\u001b[0m \u001b[0my\u001b[0m\u001b[0;34m,\u001b[0m \u001b[0mbatch_size\u001b[0m\u001b[0;34m=\u001b[0m\u001b[0;36m32\u001b[0m\u001b[0;34m,\u001b[0m \u001b[0mverbose\u001b[0m\u001b[0;34m=\u001b[0m\u001b[0;36m1\u001b[0m\u001b[0;34m,\u001b[0m \u001b[0msample_weight\u001b[0m\u001b[0;34m=\u001b[0m\u001b[0mNone\u001b[0m\u001b[0;34m)\u001b[0m\u001b[0;34m:\u001b[0m\u001b[0;34m\u001b[0m\u001b[0m\n",
      "\u001b[0;32m/home/ubuntu/anaconda2/lib/python2.7/site-packages/keras/engine/training.pyc\u001b[0m in \u001b[0;36m_fit_loop\u001b[0;34m(self, f, ins, out_labels, batch_size, nb_epoch, verbose, callbacks, val_f, val_ins, shuffle, callback_metrics, initial_epoch)\u001b[0m\n\u001b[1;32m    889\u001b[0m                 \u001b[0mbatch_logs\u001b[0m\u001b[0;34m[\u001b[0m\u001b[0;34m'size'\u001b[0m\u001b[0;34m]\u001b[0m \u001b[0;34m=\u001b[0m \u001b[0mlen\u001b[0m\u001b[0;34m(\u001b[0m\u001b[0mbatch_ids\u001b[0m\u001b[0;34m)\u001b[0m\u001b[0;34m\u001b[0m\u001b[0m\n\u001b[1;32m    890\u001b[0m                 \u001b[0mcallbacks\u001b[0m\u001b[0;34m.\u001b[0m\u001b[0mon_batch_begin\u001b[0m\u001b[0;34m(\u001b[0m\u001b[0mbatch_index\u001b[0m\u001b[0;34m,\u001b[0m \u001b[0mbatch_logs\u001b[0m\u001b[0;34m)\u001b[0m\u001b[0;34m\u001b[0m\u001b[0m\n\u001b[0;32m--> 891\u001b[0;31m                 \u001b[0mouts\u001b[0m \u001b[0;34m=\u001b[0m \u001b[0mf\u001b[0m\u001b[0;34m(\u001b[0m\u001b[0mins_batch\u001b[0m\u001b[0;34m)\u001b[0m\u001b[0;34m\u001b[0m\u001b[0m\n\u001b[0m\u001b[1;32m    892\u001b[0m                 \u001b[0;32mif\u001b[0m \u001b[0;32mnot\u001b[0m \u001b[0misinstance\u001b[0m\u001b[0;34m(\u001b[0m\u001b[0mouts\u001b[0m\u001b[0;34m,\u001b[0m \u001b[0mlist\u001b[0m\u001b[0;34m)\u001b[0m\u001b[0;34m:\u001b[0m\u001b[0;34m\u001b[0m\u001b[0m\n\u001b[1;32m    893\u001b[0m                     \u001b[0mouts\u001b[0m \u001b[0;34m=\u001b[0m \u001b[0;34m[\u001b[0m\u001b[0mouts\u001b[0m\u001b[0;34m]\u001b[0m\u001b[0;34m\u001b[0m\u001b[0m\n",
      "\u001b[0;32m/home/ubuntu/anaconda2/lib/python2.7/site-packages/keras/backend/theano_backend.pyc\u001b[0m in \u001b[0;36m__call__\u001b[0;34m(self, inputs)\u001b[0m\n\u001b[1;32m    957\u001b[0m     \u001b[0;32mdef\u001b[0m \u001b[0m__call__\u001b[0m\u001b[0;34m(\u001b[0m\u001b[0mself\u001b[0m\u001b[0;34m,\u001b[0m \u001b[0minputs\u001b[0m\u001b[0;34m)\u001b[0m\u001b[0;34m:\u001b[0m\u001b[0;34m\u001b[0m\u001b[0m\n\u001b[1;32m    958\u001b[0m         \u001b[0;32massert\u001b[0m \u001b[0misinstance\u001b[0m\u001b[0;34m(\u001b[0m\u001b[0minputs\u001b[0m\u001b[0;34m,\u001b[0m \u001b[0;34m(\u001b[0m\u001b[0mlist\u001b[0m\u001b[0;34m,\u001b[0m \u001b[0mtuple\u001b[0m\u001b[0;34m)\u001b[0m\u001b[0;34m)\u001b[0m\u001b[0;34m\u001b[0m\u001b[0m\n\u001b[0;32m--> 959\u001b[0;31m         \u001b[0;32mreturn\u001b[0m \u001b[0mself\u001b[0m\u001b[0;34m.\u001b[0m\u001b[0mfunction\u001b[0m\u001b[0;34m(\u001b[0m\u001b[0;34m*\u001b[0m\u001b[0minputs\u001b[0m\u001b[0;34m)\u001b[0m\u001b[0;34m\u001b[0m\u001b[0m\n\u001b[0m\u001b[1;32m    960\u001b[0m \u001b[0;34m\u001b[0m\u001b[0m\n\u001b[1;32m    961\u001b[0m \u001b[0;34m\u001b[0m\u001b[0m\n",
      "\u001b[0;32m/home/ubuntu/anaconda2/lib/python2.7/site-packages/theano/compile/function_module.pyc\u001b[0m in \u001b[0;36m__call__\u001b[0;34m(self, *args, **kwargs)\u001b[0m\n\u001b[1;32m    882\u001b[0m         \u001b[0;32mtry\u001b[0m\u001b[0;34m:\u001b[0m\u001b[0;34m\u001b[0m\u001b[0m\n\u001b[1;32m    883\u001b[0m             \u001b[0moutputs\u001b[0m \u001b[0;34m=\u001b[0m\u001b[0;31m\\\u001b[0m\u001b[0;34m\u001b[0m\u001b[0m\n\u001b[0;32m--> 884\u001b[0;31m                 \u001b[0mself\u001b[0m\u001b[0;34m.\u001b[0m\u001b[0mfn\u001b[0m\u001b[0;34m(\u001b[0m\u001b[0;34m)\u001b[0m \u001b[0;32mif\u001b[0m \u001b[0moutput_subset\u001b[0m \u001b[0;32mis\u001b[0m \u001b[0mNone\u001b[0m \u001b[0;32melse\u001b[0m\u001b[0;31m\\\u001b[0m\u001b[0;34m\u001b[0m\u001b[0m\n\u001b[0m\u001b[1;32m    885\u001b[0m                 \u001b[0mself\u001b[0m\u001b[0;34m.\u001b[0m\u001b[0mfn\u001b[0m\u001b[0;34m(\u001b[0m\u001b[0moutput_subset\u001b[0m\u001b[0;34m=\u001b[0m\u001b[0moutput_subset\u001b[0m\u001b[0;34m)\u001b[0m\u001b[0;34m\u001b[0m\u001b[0m\n\u001b[1;32m    886\u001b[0m         \u001b[0;32mexcept\u001b[0m \u001b[0mException\u001b[0m\u001b[0;34m:\u001b[0m\u001b[0;34m\u001b[0m\u001b[0m\n",
      "\u001b[0;31mKeyboardInterrupt\u001b[0m: "
     ]
    }
   ],
   "source": [
    "run_epochs(1, inps, outs)\n",
    "# we've already run 3, so we want the saved models to begin at 4\n",
    "stateful_model.save_weights('stateful_4passes.hd5)"
   ]
  },
  {
   "cell_type": "code",
   "execution_count": null,
   "metadata": {
    "collapsed": true
   },
   "outputs": [],
   "source": []
  }
 ],
 "metadata": {
  "kernelspec": {
   "display_name": "Python 2",
   "language": "python",
   "name": "python2"
  },
  "language_info": {
   "codemirror_mode": {
    "name": "ipython",
    "version": 2
   },
   "file_extension": ".py",
   "mimetype": "text/x-python",
   "name": "python",
   "nbconvert_exporter": "python",
   "pygments_lexer": "ipython2",
   "version": "2.7.13"
  }
 },
 "nbformat": 4,
 "nbformat_minor": 2
}
