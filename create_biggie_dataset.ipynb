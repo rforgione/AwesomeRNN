{
 "cells": [
  {
   "cell_type": "code",
   "execution_count": 16,
   "metadata": {
    "ExecuteTime": {
     "end_time": "2017-11-22T20:02:14.116968Z",
     "start_time": "2017-11-22T20:02:14.114102Z"
    },
    "collapsed": true
   },
   "outputs": [],
   "source": [
    "import pandas as pd\n",
    "import urllib"
   ]
  },
  {
   "cell_type": "code",
   "execution_count": 3,
   "metadata": {
    "ExecuteTime": {
     "end_time": "2017-11-22T19:50:25.377994Z",
     "start_time": "2017-11-22T19:50:24.677146Z"
    }
   },
   "outputs": [],
   "source": [
    "data = pd.read_csv('/home/ubuntu/songdata.csv')"
   ]
  },
  {
   "cell_type": "code",
   "execution_count": 4,
   "metadata": {
    "ExecuteTime": {
     "end_time": "2017-11-22T19:50:54.126302Z",
     "start_time": "2017-11-22T19:50:54.113438Z"
    }
   },
   "outputs": [
    {
     "data": {
      "text/plain": [
       "Index([u'artist', u'song', u'link', u'text'], dtype='object')"
      ]
     },
     "execution_count": 4,
     "metadata": {},
     "output_type": "execute_result"
    }
   ],
   "source": [
    "data.columns"
   ]
  },
  {
   "cell_type": "code",
   "execution_count": 6,
   "metadata": {
    "ExecuteTime": {
     "end_time": "2017-11-22T19:51:27.461388Z",
     "start_time": "2017-11-22T19:51:27.452579Z"
    }
   },
   "outputs": [],
   "source": [
    "biggie_data = data.loc[data['artist'] == 'Notorious B.I.G.', :]"
   ]
  },
  {
   "cell_type": "code",
   "execution_count": 8,
   "metadata": {
    "ExecuteTime": {
     "end_time": "2017-11-22T19:51:54.144473Z",
     "start_time": "2017-11-22T19:51:54.140901Z"
    }
   },
   "outputs": [],
   "source": [
    "biggie_urls = biggie_data['link']"
   ]
  },
  {
   "cell_type": "code",
   "execution_count": 10,
   "metadata": {
    "ExecuteTime": {
     "end_time": "2017-11-22T19:52:02.806406Z",
     "start_time": "2017-11-22T19:52:02.802090Z"
    }
   },
   "outputs": [
    {
     "data": {
      "text/plain": [
       "50"
      ]
     },
     "execution_count": 10,
     "metadata": {},
     "output_type": "execute_result"
    }
   ],
   "source": [
    "biggie_urls.size"
   ]
  },
  {
   "cell_type": "code",
   "execution_count": 14,
   "metadata": {
    "ExecuteTime": {
     "end_time": "2017-11-22T20:01:19.800504Z",
     "start_time": "2017-11-22T20:01:19.796752Z"
    },
    "collapsed": true
   },
   "outputs": [],
   "source": [
    "url_list = []\n",
    "for url in biggie_urls:\n",
    "    full_url = 'http://lyricsfreak.com' + url\n",
    "    url_list.append(full_url)"
   ]
  },
  {
   "cell_type": "code",
   "execution_count": 15,
   "metadata": {
    "ExecuteTime": {
     "end_time": "2017-11-22T20:01:20.295103Z",
     "start_time": "2017-11-22T20:01:20.287774Z"
    }
   },
   "outputs": [
    {
     "data": {
      "text/plain": [
       "['http://lyricsfreak.com/n/notorious+big/another_20101848.html',\n",
       " 'http://lyricsfreak.com/n/notorious+big/big+poppa_10194929.html',\n",
       " 'http://lyricsfreak.com/n/notorious+big/can+i+get+witcha_20101833.html',\n",
       " 'http://lyricsfreak.com/n/notorious+big/cant+you+see_20174228.html',\n",
       " 'http://lyricsfreak.com/n/notorious+big/friend+of+mine_20101874.html',\n",
       " 'http://lyricsfreak.com/n/notorious+big/get+money+feat+junior+mafia_20209701.html',\n",
       " 'http://lyricsfreak.com/n/notorious+big/going+back+to+cali_20101850.html',\n",
       " 'http://lyricsfreak.com/n/notorious+big/hold+ya+head_20480731.html',\n",
       " 'http://lyricsfreak.com/n/notorious+big/i+love+the+dough_20101853.html',\n",
       " 'http://lyricsfreak.com/n/notorious+big/miss+u_20101859.html',\n",
       " 'http://lyricsfreak.com/n/notorious+big/mo+money+mo+problems_20101860.html',\n",
       " 'http://lyricsfreak.com/n/notorious+big/ms+wallace+outro_20266562.html',\n",
       " 'http://lyricsfreak.com/n/notorious+big/nasty+boy_10194937.html',\n",
       " 'http://lyricsfreak.com/n/notorious+big/niggas_20101841.html',\n",
       " 'http://lyricsfreak.com/n/notorious+big/notorious+big_20480714.html',\n",
       " 'http://lyricsfreak.com/n/notorious+big/ready+to+die_20101882.html',\n",
       " 'http://lyricsfreak.com/n/notorious+big/ten+crack+commandments_20101868.html',\n",
       " 'http://lyricsfreak.com/n/notorious+big/the+greatest+rapper_20480710.html',\n",
       " 'http://lyricsfreak.com/n/notorious+big/wake+up_20480707.html',\n",
       " 'http://lyricsfreak.com/n/notorious+big/whatchu+want_20480705.html',\n",
       " 'http://lyricsfreak.com/n/notorious+big/who+shot+ya_20101846.html',\n",
       " 'http://lyricsfreak.com/n/notorious+big/would+you+die+for+me_10194887.html',\n",
       " 'http://lyricsfreak.com/n/notorious+big/you+to+be+happy_20609616.html',\n",
       " 'http://lyricsfreak.com/n/notorious+big/1970+somethin_20480747.html',\n",
       " 'http://lyricsfreak.com/n/notorious+big/big+interlude_10194889.html',\n",
       " 'http://lyricsfreak.com/n/notorious+big/big+live+in+jamaica+intro_20480743.html',\n",
       " 'http://lyricsfreak.com/n/notorious+big/born+again+intro_20160509.html',\n",
       " 'http://lyricsfreak.com/n/notorious+big/dead+wrong+original_20923009.html',\n",
       " 'http://lyricsfreak.com/n/notorious+big/dirty+b+side_20101891.html',\n",
       " 'http://lyricsfreak.com/n/notorious+big/drugs_20609614.html',\n",
       " 'http://lyricsfreak.com/n/notorious+big/im+with+whateva_20480728.html',\n",
       " 'http://lyricsfreak.com/n/notorious+big/intro_20101877.html',\n",
       " 'http://lyricsfreak.com/n/notorious+big/juicy_20101878.html',\n",
       " 'http://lyricsfreak.com/n/notorious+big/just+a+memory_20480726.html',\n",
       " 'http://lyricsfreak.com/n/notorious+big/kick+in+the+door_20101855.html',\n",
       " 'http://lyricsfreak.com/n/notorious+big/life+after+death+intro_20101857.html',\n",
       " 'http://lyricsfreak.com/n/notorious+big/long+kiss+goodnight_20101858.html',\n",
       " 'http://lyricsfreak.com/n/notorious+big/love+is+everlasting+outro_20480720.html',\n",
       " 'http://lyricsfreak.com/n/notorious+big/machine+gun+funk_20101879.html',\n",
       " 'http://lyricsfreak.com/n/notorious+big/mi+casa_20480718.html',\n",
       " 'http://lyricsfreak.com/n/notorious+big/players+anthem+feat+junior+mafia+and+krs+one_20292767.html',\n",
       " 'http://lyricsfreak.com/n/notorious+big/respect_20101883.html',\n",
       " 'http://lyricsfreak.com/n/notorious+big/runnin_20101901.html',\n",
       " 'http://lyricsfreak.com/n/notorious+big/somebodys+gotta+die_20101867.html',\n",
       " 'http://lyricsfreak.com/n/notorious+big/the+what_20101885.html',\n",
       " 'http://lyricsfreak.com/n/notorious+big/the+wickedest_20480709.html',\n",
       " 'http://lyricsfreak.com/n/notorious+big/things+done+changed_20101886.html',\n",
       " 'http://lyricsfreak.com/n/notorious+big/ultimate+rush_20480708.html',\n",
       " 'http://lyricsfreak.com/n/notorious+big/unbelievable_20101887.html',\n",
       " 'http://lyricsfreak.com/n/notorious+big/youre+nobody+til+somebody+kills+you_20923002.html']"
      ]
     },
     "execution_count": 15,
     "metadata": {},
     "output_type": "execute_result"
    }
   ],
   "source": [
    "url_list"
   ]
  },
  {
   "cell_type": "code",
   "execution_count": 18,
   "metadata": {
    "ExecuteTime": {
     "end_time": "2017-11-22T20:04:25.626095Z",
     "start_time": "2017-11-22T20:03:53.218513Z"
    }
   },
   "outputs": [],
   "source": [
    "songs = []\n",
    "for url in url_list:\n",
    "    try:\n",
    "        songs.append(urllib2.urlopen(url).read())\n",
    "    except:\n",
    "        continue"
   ]
  },
  {
   "cell_type": "code",
   "execution_count": 20,
   "metadata": {
    "ExecuteTime": {
     "end_time": "2017-11-22T20:04:35.177693Z",
     "start_time": "2017-11-22T20:04:35.173367Z"
    }
   },
   "outputs": [
    {
     "data": {
      "text/plain": [
       "[]"
      ]
     },
     "execution_count": 20,
     "metadata": {},
     "output_type": "execute_result"
    }
   ],
   "source": [
    "songs"
   ]
  },
  {
   "cell_type": "code",
   "execution_count": null,
   "metadata": {
    "collapsed": true
   },
   "outputs": [],
   "source": []
  }
 ],
 "metadata": {
  "kernelspec": {
   "display_name": "Python 2",
   "language": "python",
   "name": "python2"
  },
  "language_info": {
   "codemirror_mode": {
    "name": "ipython",
    "version": 2
   },
   "file_extension": ".py",
   "mimetype": "text/x-python",
   "name": "python",
   "nbconvert_exporter": "python",
   "pygments_lexer": "ipython2",
   "version": "2.7.13"
  }
 },
 "nbformat": 4,
 "nbformat_minor": 2
}
