{
 "cells": [
  {
   "cell_type": "code",
   "execution_count": 272,
   "metadata": {
    "ExecuteTime": {
     "end_time": "2017-11-22T20:55:07.234347Z",
     "start_time": "2017-11-22T20:55:07.170554Z"
    },
    "collapsed": true
   },
   "outputs": [],
   "source": [
    "from keras.layers import Input, Embedding, SimpleRNN, Dense, merge, Flatten, BatchNormalization, LSTM, TimeDistributed, Dropout\n",
    "from keras.models import Model\n",
    "from keras.optimizers import Adam\n",
    "import keras\n",
    "import urllib2\n",
    "import numpy as np\n",
    "import re\n",
    "import itertools\n",
    "\n",
    "# dataset_raw = urllib2.urlopen(\"https://s3.amazonaws.com/text-datasets/nietzsche.txt\").read().\\\n",
    "#     replace('\\n', ' ').lower()\n",
    "with open('/home/ubuntu/trump.txt') as f:\n",
    "    txt = f.read()\n",
    "    txt = txt.replace('\\n', ' ')\n",
    "    txt = re.sub(' +', ' ', txt)\n",
    "    txt = re.split('SPEECH \\d ', txt)\n",
    "    txt = [i.lower() for i in txt if i != '']"
   ]
  },
  {
   "cell_type": "code",
   "execution_count": 273,
   "metadata": {
    "ExecuteTime": {
     "end_time": "2017-11-22T20:55:11.924856Z",
     "start_time": "2017-11-22T20:55:11.920188Z"
    }
   },
   "outputs": [
    {
     "data": {
      "text/plain": [
       "\"...thank you so much. that's so nice. isn't he a great guy. he doesn't get a fair press; he doesn't \""
      ]
     },
     "execution_count": 273,
     "metadata": {},
     "output_type": "execute_result"
    }
   ],
   "source": [
    "txt[0][:100]"
   ]
  },
  {
   "cell_type": "code",
   "execution_count": 274,
   "metadata": {
    "ExecuteTime": {
     "end_time": "2017-11-22T20:55:17.032014Z",
     "start_time": "2017-11-22T20:55:16.418340Z"
    },
    "collapsed": true
   },
   "outputs": [],
   "source": [
    "vocab = sorted(list(set([i for i in j for j in txt])))"
   ]
  },
  {
   "cell_type": "code",
   "execution_count": 253,
   "metadata": {
    "ExecuteTime": {
     "end_time": "2017-11-22T20:49:50.745562Z",
     "start_time": "2017-11-22T20:49:50.742067Z"
    },
    "collapsed": true
   },
   "outputs": [],
   "source": [
    "vocab.insert(0, '\\0')"
   ]
  },
  {
   "cell_type": "code",
   "execution_count": 276,
   "metadata": {
    "ExecuteTime": {
     "end_time": "2017-11-22T20:55:31.173080Z",
     "start_time": "2017-11-22T20:55:31.169611Z"
    },
    "collapsed": true
   },
   "outputs": [],
   "source": [
    "txt_encoder = {v:k for k,v in enumerate(vocab)}\n",
    "txt_decoder = {k:v for k,v in enumerate(vocab)}"
   ]
  },
  {
   "cell_type": "code",
   "execution_count": 280,
   "metadata": {
    "ExecuteTime": {
     "end_time": "2017-11-22T20:56:05.719699Z",
     "start_time": "2017-11-22T20:56:05.634518Z"
    },
    "collapsed": true
   },
   "outputs": [],
   "source": [
    "datasets_encoded = [[txt_encoder[i] for i in j] for j in txt]"
   ]
  },
  {
   "cell_type": "code",
   "execution_count": 311,
   "metadata": {
    "ExecuteTime": {
     "end_time": "2017-11-22T22:41:41.409403Z",
     "start_time": "2017-11-22T22:41:41.405145Z"
    }
   },
   "outputs": [
    {
     "data": {
      "text/plain": [
       "9"
      ]
     },
     "execution_count": 311,
     "metadata": {},
     "output_type": "execute_result"
    }
   ],
   "source": [
    "len(datasets_encoded)"
   ]
  },
  {
   "cell_type": "code",
   "execution_count": 285,
   "metadata": {
    "ExecuteTime": {
     "end_time": "2017-11-22T20:56:49.633741Z",
     "start_time": "2017-11-22T20:56:49.630080Z"
    },
    "collapsed": true
   },
   "outputs": [],
   "source": [
    "dataset_encoded = datasets_encoded[0]"
   ]
  },
  {
   "cell_type": "code",
   "execution_count": 286,
   "metadata": {
    "ExecuteTime": {
     "end_time": "2017-11-22T20:56:50.315796Z",
     "start_time": "2017-11-22T20:56:50.312901Z"
    },
    "collapsed": true
   },
   "outputs": [],
   "source": [
    "vocab_size = len(vocab)"
   ]
  },
  {
   "cell_type": "code",
   "execution_count": 287,
   "metadata": {
    "ExecuteTime": {
     "end_time": "2017-11-22T20:56:50.785957Z",
     "start_time": "2017-11-22T20:56:50.783176Z"
    },
    "collapsed": true
   },
   "outputs": [],
   "source": [
    "seq_len = 40"
   ]
  },
  {
   "cell_type": "code",
   "execution_count": 398,
   "metadata": {
    "ExecuteTime": {
     "end_time": "2017-11-22T23:11:58.967334Z",
     "start_time": "2017-11-22T23:11:46.197676Z"
    }
   },
   "outputs": [
    {
     "name": "stdout",
     "output_type": "stream",
     "text": [
      "nb sequences: 20807\n"
     ]
    }
   ],
   "source": [
    "n_fac = 60\n",
    "max_len = 40\n",
    "\n",
    "sentences = []\n",
    "next_chars = []\n",
    "\n",
    "for i in range(len(datasets_encoded)):\n",
    "    sentences.append([])\n",
    "    next_chars.append([])\n",
    "    data = datasets_encoded[i]\n",
    "    for j in range(len(data) - max_len + 1):\n",
    "        sentences[i].append(data[j:j+max_len])\n",
    "        next_chars[i].append(data[j+1:j+max_len+1])         \n",
    "        \n",
    "    sentences[i] = np.stack([np.array(o) for o in sentences[i][:-1]], axis=0)\n",
    "    next_chars[i] = np.stack([np.array(o) for o in next_chars[i][:-1]], axis=0)\n",
    "    \n",
    "print('nb sequences: %s' % len(sentences[0]))"
   ]
  },
  {
   "cell_type": "code",
   "execution_count": 401,
   "metadata": {
    "ExecuteTime": {
     "end_time": "2017-11-22T23:12:18.722549Z",
     "start_time": "2017-11-22T23:12:18.717556Z"
    }
   },
   "outputs": [
    {
     "data": {
      "text/plain": [
       "((33279, 40), (33279, 40))"
      ]
     },
     "execution_count": 401,
     "metadata": {},
     "output_type": "execute_result"
    }
   ],
   "source": [
    "sentences[5].shape, next_chars[5].shape"
   ]
  },
  {
   "cell_type": "code",
   "execution_count": 402,
   "metadata": {
    "ExecuteTime": {
     "end_time": "2017-11-22T23:12:23.992023Z",
     "start_time": "2017-11-22T23:12:23.987483Z"
    }
   },
   "outputs": [
    {
     "data": {
      "text/plain": [
       "((20807, 40), (20807, 40))"
      ]
     },
     "execution_count": 402,
     "metadata": {},
     "output_type": "execute_result"
    }
   ],
   "source": [
    "sentences[0].shape, next_chars[0].shape"
   ]
  },
  {
   "cell_type": "code",
   "execution_count": 413,
   "metadata": {
    "ExecuteTime": {
     "end_time": "2017-11-22T23:38:15.057406Z",
     "start_time": "2017-11-22T23:38:13.228286Z"
    },
    "collapsed": true
   },
   "outputs": [],
   "source": [
    "inp = Input(shape=(max_len,))\n",
    "emb = Embedding(vocab_size, n_fac, input_length=max_len)(inp)\n",
    "lstm1 = LSTM(512, input_dim=n_fac,return_sequences=True, dropout_U=0.2, dropout_W=0.2,\n",
    "             consume_less='gpu')(emb)\n",
    "d1 = Dropout(0.2)(lstm1)\n",
    "lstm2 = LSTM(512, input_dim=n_fac,return_sequences=True, dropout_U=0.2, dropout_W=0.2,\n",
    "             consume_less='gpu')(d1)\n",
    "d2 = Dropout(0.2)(lstm2)\n",
    "out = TimeDistributed(Dense(vocab_size, activation='softmax'))(d2)"
   ]
  },
  {
   "cell_type": "code",
   "execution_count": 414,
   "metadata": {
    "ExecuteTime": {
     "end_time": "2017-11-22T23:38:15.062202Z",
     "start_time": "2017-11-22T23:38:15.058846Z"
    },
    "collapsed": true
   },
   "outputs": [],
   "source": [
    "mdl = Model(input=inp, output=out)"
   ]
  },
  {
   "cell_type": "code",
   "execution_count": 405,
   "metadata": {
    "ExecuteTime": {
     "end_time": "2017-11-22T23:12:36.559711Z",
     "start_time": "2017-11-22T23:12:36.196186Z"
    }
   },
   "outputs": [
    {
     "name": "stdout",
     "output_type": "stream",
     "text": [
      "____________________________________________________________________________________________________\n",
      "Layer (type)                     Output Shape          Param #     Connected to                     \n",
      "====================================================================================================\n",
      "input_8 (InputLayer)             (None, 40)            0                                            \n",
      "____________________________________________________________________________________________________\n",
      "embedding_8 (Embedding)          (None, 40, 60)        4080        input_8[0][0]                    \n",
      "____________________________________________________________________________________________________\n",
      "lstm_14 (LSTM)                   (None, 40, 512)       1173504     embedding_8[0][0]                \n",
      "____________________________________________________________________________________________________\n",
      "dropout_13 (Dropout)             (None, 40, 512)       0           lstm_14[0][0]                    \n",
      "____________________________________________________________________________________________________\n",
      "lstm_15 (LSTM)                   (None, 40, 512)       2099200     dropout_13[0][0]                 \n",
      "____________________________________________________________________________________________________\n",
      "dropout_14 (Dropout)             (None, 40, 512)       0           lstm_15[0][0]                    \n",
      "____________________________________________________________________________________________________\n",
      "timedistributed_6 (TimeDistribut (None, 40, 68)        34884       dropout_14[0][0]                 \n",
      "====================================================================================================\n",
      "Total params: 3,311,668\n",
      "Trainable params: 3,311,668\n",
      "Non-trainable params: 0\n",
      "____________________________________________________________________________________________________\n"
     ]
    }
   ],
   "source": [
    "mdl.summary()"
   ]
  },
  {
   "cell_type": "code",
   "execution_count": 294,
   "metadata": {
    "ExecuteTime": {
     "end_time": "2017-11-22T20:57:23.585801Z",
     "start_time": "2017-11-22T20:57:23.580222Z"
    }
   },
   "outputs": [
    {
     "data": {
      "text/plain": [
       "68"
      ]
     },
     "execution_count": 294,
     "metadata": {},
     "output_type": "execute_result"
    }
   ],
   "source": [
    "vocab_size"
   ]
  },
  {
   "cell_type": "code",
   "execution_count": 193,
   "metadata": {
    "ExecuteTime": {
     "end_time": "2017-11-22T18:57:30.053992Z",
     "start_time": "2017-11-22T18:57:30.047684Z"
    },
    "collapsed": true
   },
   "outputs": [],
   "source": [
    "def generate_text(num_chars):\n",
    "    base_str = 'suffering is not the only way to see a t'\n",
    "    for i in range(num_chars):\n",
    "        prediction = mdl.predict(np.array([txt_encoder[i] for i in base_str[-40:]])\\\n",
    "                                 [np.newaxis,:])[0][-1]\n",
    "        prediction = prediction / np.sum(prediction)\n",
    "        next_char = np.random.choice(vocab, p=prediction) # the final model output\n",
    "        base_str = base_str + next_char\n",
    "    return base_str"
   ]
  },
  {
   "cell_type": "code",
   "execution_count": 174,
   "metadata": {
    "ExecuteTime": {
     "end_time": "2017-11-22T16:44:55.528822Z",
     "start_time": "2017-11-22T16:44:55.524669Z"
    }
   },
   "outputs": [
    {
     "data": {
      "text/plain": [
       "59"
      ]
     },
     "execution_count": 174,
     "metadata": {},
     "output_type": "execute_result"
    }
   ],
   "source": [
    "vocab_size"
   ]
  },
  {
   "cell_type": "code",
   "execution_count": 415,
   "metadata": {
    "ExecuteTime": {
     "end_time": "2017-11-22T23:38:19.170252Z",
     "start_time": "2017-11-22T23:38:19.162483Z"
    },
    "collapsed": true
   },
   "outputs": [],
   "source": [
    "def print_example():\n",
    "    seed_string = 'need to secure our borders and make sure'\n",
    "    for i in range(320):\n",
    "        x=np.array([txt_encoder[c] for c in seed_string[-40:]])[np.newaxis,:]\n",
    "        preds = mdl.predict(x, verbose=0)[0][-1]\n",
    "        preds = preds/np.sum(preds)\n",
    "        next_char = np.random.choice(vocab, p=preds)\n",
    "        seed_string = seed_string + next_char\n",
    "    print(seed_string)"
   ]
  },
  {
   "cell_type": "code",
   "execution_count": 416,
   "metadata": {
    "ExecuteTime": {
     "end_time": "2017-11-22T23:38:20.217180Z",
     "start_time": "2017-11-22T23:38:20.202603Z"
    },
    "collapsed": true
   },
   "outputs": [],
   "source": [
    "mdl.compile(optimizer=Adam(lr=0.01), loss='sparse_categorical_crossentropy')"
   ]
  },
  {
   "cell_type": "code",
   "execution_count": 417,
   "metadata": {
    "ExecuteTime": {
     "end_time": "2017-11-23T00:07:16.345518Z",
     "start_time": "2017-11-22T23:38:21.052781Z"
    }
   },
   "outputs": [
    {
     "name": "stdout",
     "output_type": "stream",
     "text": [
      "Epoch 1/1\n",
      "20807/20807 [==============================] - 38s - loss: 2.5992    \n",
      "need to secure our borders and make sure thing thoopen is wrreidiil. wat the have terurk. they' aversut on yor's arasks.. moan cibes liat so chaterronnciet, and hroon to mors por o2 at don't waly have a loal i we he ko te have all putore afe un mel. anl i't goallak are sore, is i ef are yout. secy, he. are bele for to; and we amwiorsou. s can is brrion and a\n",
      "Epoch 1/1\n",
      "26856/26856 [==============================] - 49s - loss: 1.7566    \n",
      "need to secure our borders and make surents, we tone defending the world, we’re to centuresmill long and furpot and septe, and we had foreign policy prember any is their ralies, 1nd has gavely, presis propole, the world, become. ever as islad the necurity youl warther peaor lame as completed ess recourtr. ruve. we have serrorism will must these xay has als\n",
      "Epoch 1/1\n",
      "2693/2693 [==============================] - 5s - loss: 1.5057     \n",
      "need to secure our borders and make sure to paild 2verybesthers,\" help the up ming a look hands; what meak if op this hands.\" by when heed. you knial, \"i hands are not look frow strong and irestion, you can’t that. \"hou. i had that what supporters, by what is it. therefore, he hands are sittle that, so all. they work, i said, they was ... you, thum and tha\n",
      "Epoch 1/1\n",
      "6061/6061 [==============================] - 11s - loss: 1.3634    \n",
      "need to secure our borders and make sure the wates \"ven people lot my kperica great more in my i want to say. and we’re evening. young. you. they’re going to be tell you, thank you know it. you’d what are 45 donest, the last of months you, so so i’m all over tell you money, we’re going to make me pay for the best much for phil to be them. nobody ha\n",
      "Epoch 1/1\n",
      "1302/1302 [==============================] - 2s - loss: 1.3754     \n",
      "need to secure our borders and make sure, and all they’re killing all everybody have do becuations, when all in’t know at the last the aind they going in beating in they didn’t have yons. think you. i candidates trump, all the air all there. it us the unites to beat is nongies, and beating work. thouvim. our they didn’t exund the laciationally. they \n",
      "Epoch 1/1\n",
      "33279/33279 [==============================] - 61s - loss: 1.3918    \n",
      "need to secure our borders and make sure to back, and they would said. \"fow make it. i said, \"very. he’ll take the o0e, i’ll see when 11 billion in faction, now, a dig. ased and and it trucks by my five to bring faith, they’re bridge with them secrection and it. we have zero. we ought again, and we be country. but i jigne is a big probeblems in from 18\n",
      "Epoch 1/1\n",
      "28993/28993 [==============================] - 53s - loss: 1.2407    \n",
      "need to secure our borders and make sure the hive a was in the next when i’m going to be done to in already, what’s rasive. so i was because it’s a yeing about, and it would’ve actiorly, go with it. and we called to be everything. i don’t was won bemay of the really tor sun that was the unified of the exumple. it’s not going to come ordered and w\n",
      "Epoch 1/1\n",
      "431712/431712 [==============================] - 791s - loss: 1.3295   \n",
      "need to secure our borders and make sure mexico, i just would have no press, i have no carolina. we want to do that we’re called for the world. then i would have got ok? but you get them to talking ruch. they’re a wall? but we’ve got to bet a guy happenm. have are great what i got to want to specially would a dream and you – this said, \"me? i going t\n",
      "Epoch 1/1\n",
      "361083/361083 [==============================] - 662s - loss: 1.5343   \n",
      "need to secure our borders and make surey soubout baveysun, building whot they’re the mest by i because undouldne a truchinf. let possn’t 3l woun ho beft up in sind me \"omr – i had comen sighed. i get or are abous. you count whel newiony – i mikh mith dinaig fisof soy nigattedt sey, you know, but in dobegt, ncing me not so marm get to worleys, i si d\n"
     ]
    }
   ],
   "source": [
    "for i in range(len(sentences)):\n",
    "    mdl.fit(sentences[i], np.expand_dims(next_chars[i], -1), nb_epoch=1, batch_size=64)\n",
    "    print_example()"
   ]
  },
  {
   "cell_type": "code",
   "execution_count": 409,
   "metadata": {
    "ExecuteTime": {
     "end_time": "2017-11-22T23:36:30.245812Z",
     "start_time": "2017-11-22T23:36:23.571669Z"
    }
   },
   "outputs": [
    {
     "name": "stdout",
     "output_type": "stream",
     "text": [
      "...thank you so much. that's so nice. ise e. j. we whi d csedmgdr. he sallsie tldk5t an in wilant o  meelda falhallid’tineke berned go i blangoe anthde i ffallsot, mua. se gi t meyo le n,d, w our..sg wwesnlledelll.theret. whong ussndet. aatics nu g seed ’ve dnnhnh ecyiandon, the bpe wo amo.. thmy . beve d owpanto thehpt te yieotrie. dit, thato sof de sor\n"
     ]
    }
   ],
   "source": [
    "print_example()"
   ]
  },
  {
   "cell_type": "code",
   "execution_count": 309,
   "metadata": {
    "ExecuteTime": {
     "end_time": "2017-11-22T22:39:44.282864Z",
     "start_time": "2017-11-22T22:39:02.221697Z"
    }
   },
   "outputs": [
    {
     "name": "stdout",
     "output_type": "stream",
     "text": [
      "Epoch 1/1\n",
      "20806/20806 [==============================] - 38s - loss: 1.8849    \n",
      "...thank you so much. that's so nice. is i konnands to say nople about everybods can, beed it, i way. in, leads. debemy about soment dolts to do awhsed, i clople abous tile of that infhiching0 but they lost. we and fay abony that we havel, to? what's thouds; we owhat and to said have because nesords. we moln to say and it's, wered colltar have theme thouble \n"
     ]
    }
   ],
   "source": [
    "mdl.fit(sentences, np.expand_dims(next_chars, -1), nb_epoch=1, batch_size=64)\n",
    "print_example()"
   ]
  },
  {
   "cell_type": "code",
   "execution_count": 310,
   "metadata": {
    "ExecuteTime": {
     "end_time": "2017-11-22T22:41:11.576300Z",
     "start_time": "2017-11-22T22:40:59.345324Z"
    }
   },
   "outputs": [
    {
     "data": {
      "text/plain": [
       "\"suffering is not the only way to see a the money for alomportsfores, they i llalss a luch about we ford mtans, i sioming, and i buy every. and mount but ocerrender. what'n so it. so mun many. and tho aromity that that's go that apecal seal and they het we havor of but i'll. i goingfors they doing fidtem, be so fard hat kounidecurpming agis, what coring they ise a doated acail of me our se apsols, an potails and agails, i which. i kealln bring they havim rear i many iss so miching to order sextn. but that i lot serico. the make thed, for best for youl to peunce, if oof as reothing couetiters that's do mecountry. nork stow that ud have things. it. i can every. we't a gling woullod a way hould to goer, he all not and not you way, bost all pile. collie mottangs that kever the pore to gooinn that really leono, thoe; they take about kick.. we'ritasilu lnow that goerting, and is foidges of to we're they have thing. it's repecarling ever that's i more mless. aboolly. think. what so thouso, that's you've have the did ale, he could, h\""
      ]
     },
     "execution_count": 310,
     "metadata": {},
     "output_type": "execute_result"
    }
   ],
   "source": [
    "generate_text(1000)"
   ]
  },
  {
   "cell_type": "code",
   "execution_count": 187,
   "metadata": {
    "ExecuteTime": {
     "end_time": "2017-11-22T18:50:49.063023Z",
     "start_time": "2017-11-22T18:50:45.134048Z"
    }
   },
   "outputs": [
    {
     "name": "stdout",
     "output_type": "stream",
     "text": [
      "ethics is a basic foundation of all that in the wale and cistords which say be one of world wittor, in ordized is denice of the getuition. and hither best-hear, not hamps, that to he is, to been dunce of more to blam and prions and occause renal pies to eye subject to the for hory rant should betwork and longe's belogiends by knowledge, \"been have every befo\n"
     ]
    }
   ],
   "source": [
    "print_example()"
   ]
  },
  {
   "cell_type": "code",
   "execution_count": 155,
   "metadata": {
    "ExecuteTime": {
     "end_time": "2017-11-22T16:37:15.958408Z",
     "start_time": "2017-11-22T16:37:15.937955Z"
    },
    "collapsed": true
   },
   "outputs": [],
   "source": [
    "mdl.save_weights('mdl_better_2e.hd5')"
   ]
  },
  {
   "cell_type": "code",
   "execution_count": 149,
   "metadata": {
    "ExecuteTime": {
     "end_time": "2017-11-22T16:15:29.658339Z",
     "start_time": "2017-11-22T16:15:29.645585Z"
    },
    "collapsed": true
   },
   "outputs": [],
   "source": [
    "mdl.load_weights('mdl_better_2e.hd5')"
   ]
  },
  {
   "cell_type": "code",
   "execution_count": 159,
   "metadata": {
    "ExecuteTime": {
     "end_time": "2017-11-22T16:38:13.883912Z",
     "start_time": "2017-11-22T16:38:09.898669Z"
    }
   },
   "outputs": [
    {
     "data": {
      "text/plain": [
       "'suffering is not the only way to see a the say the say the say the say the say the say the say the say the say the say the say the say the s'"
      ]
     },
     "execution_count": 159,
     "metadata": {},
     "output_type": "execute_result"
    }
   ],
   "source": [
    "generate_text(100)"
   ]
  },
  {
   "cell_type": "code",
   "execution_count": 169,
   "metadata": {
    "ExecuteTime": {
     "end_time": "2017-11-22T16:43:14.569159Z",
     "start_time": "2017-11-22T16:43:14.527206Z"
    }
   },
   "outputs": [
    {
     "ename": "ValueError",
     "evalue": "a and p must have same size",
     "output_type": "error",
     "traceback": [
      "\u001b[0;31m---------------------------------------------------------------------------\u001b[0m",
      "\u001b[0;31mValueError\u001b[0m                                Traceback (most recent call last)",
      "\u001b[0;32m<ipython-input-169-01749e406beb>\u001b[0m in \u001b[0;36m<module>\u001b[0;34m()\u001b[0m\n\u001b[0;32m----> 1\u001b[0;31m \u001b[0mprint_example\u001b[0m\u001b[0;34m(\u001b[0m\u001b[0;34m)\u001b[0m\u001b[0;34m\u001b[0m\u001b[0m\n\u001b[0m",
      "\u001b[0;32m<ipython-input-168-bda0002c3c29>\u001b[0m in \u001b[0;36mprint_example\u001b[0;34m()\u001b[0m\n\u001b[1;32m      5\u001b[0m         \u001b[0mpreds\u001b[0m \u001b[0;34m=\u001b[0m \u001b[0mmdl\u001b[0m\u001b[0;34m.\u001b[0m\u001b[0mpredict\u001b[0m\u001b[0;34m(\u001b[0m\u001b[0mx\u001b[0m\u001b[0;34m,\u001b[0m \u001b[0mverbose\u001b[0m\u001b[0;34m=\u001b[0m\u001b[0;36m0\u001b[0m\u001b[0;34m)\u001b[0m\u001b[0;34m[\u001b[0m\u001b[0;36m0\u001b[0m\u001b[0;34m]\u001b[0m\u001b[0;34m[\u001b[0m\u001b[0;34m-\u001b[0m\u001b[0;36m1\u001b[0m\u001b[0;34m]\u001b[0m\u001b[0;34m\u001b[0m\u001b[0m\n\u001b[1;32m      6\u001b[0m         \u001b[0mpreds\u001b[0m \u001b[0;34m=\u001b[0m \u001b[0mpreds\u001b[0m\u001b[0;34m/\u001b[0m\u001b[0mnp\u001b[0m\u001b[0;34m.\u001b[0m\u001b[0msum\u001b[0m\u001b[0;34m(\u001b[0m\u001b[0mpreds\u001b[0m\u001b[0;34m)\u001b[0m\u001b[0;34m\u001b[0m\u001b[0m\n\u001b[0;32m----> 7\u001b[0;31m         \u001b[0mnext_char\u001b[0m \u001b[0;34m=\u001b[0m \u001b[0mnp\u001b[0m\u001b[0;34m.\u001b[0m\u001b[0mrandom\u001b[0m\u001b[0;34m.\u001b[0m\u001b[0mchoice\u001b[0m\u001b[0;34m(\u001b[0m\u001b[0mvocab\u001b[0m\u001b[0;34m,\u001b[0m \u001b[0mp\u001b[0m\u001b[0;34m=\u001b[0m\u001b[0mpreds\u001b[0m\u001b[0;34m)\u001b[0m\u001b[0;34m\u001b[0m\u001b[0m\n\u001b[0m\u001b[1;32m      8\u001b[0m         \u001b[0mseed_string\u001b[0m \u001b[0;34m=\u001b[0m \u001b[0mseed_string\u001b[0m \u001b[0;34m+\u001b[0m \u001b[0mnext_char\u001b[0m\u001b[0;34m\u001b[0m\u001b[0m\n\u001b[1;32m      9\u001b[0m     \u001b[0;32mprint\u001b[0m\u001b[0;34m(\u001b[0m\u001b[0mseed_string\u001b[0m\u001b[0;34m)\u001b[0m\u001b[0;34m\u001b[0m\u001b[0m\n",
      "\u001b[0;32mmtrand.pyx\u001b[0m in \u001b[0;36mmtrand.RandomState.choice (numpy/random/mtrand/mtrand.c:17683)\u001b[0;34m()\u001b[0m\n",
      "\u001b[0;31mValueError\u001b[0m: a and p must have same size"
     ]
    }
   ],
   "source": [
    "print_example()"
   ]
  },
  {
   "cell_type": "code",
   "execution_count": 99,
   "metadata": {
    "ExecuteTime": {
     "end_time": "2017-11-22T07:30:06.490344Z",
     "start_time": "2017-11-22T07:11:39.705251Z"
    }
   },
   "outputs": [
    {
     "name": "stdout",
     "output_type": "stream",
     "text": [
      "Epoch 1/1\n",
      "600855/600855 [==============================] - 1106s - loss: 2.7142  \n"
     ]
    },
    {
     "data": {
      "text/plain": [
       "<keras.callbacks.History at 0x7f9be8e727d0>"
      ]
     },
     "execution_count": 99,
     "metadata": {},
     "output_type": "execute_result"
    }
   ],
   "source": [
    "mdl.optimizer.lr = 0.01\n",
    "mdl.fit(sentences[:-1], np.expand_dims(next_chars, -1), nb_epoch=1, batch_size=64)"
   ]
  },
  {
   "cell_type": "code",
   "execution_count": 105,
   "metadata": {
    "ExecuteTime": {
     "end_time": "2017-11-22T14:03:24.732114Z",
     "start_time": "2017-11-22T07:56:22.906204Z"
    }
   },
   "outputs": [
    {
     "name": "stdout",
     "output_type": "stream",
     "text": [
      "Epoch 1/1\n",
      "600855/600855 [==============================] - 1104s - loss: 2.2784  \n",
      "Epoch 1/1\n",
      "600855/600855 [==============================] - 1103s - loss: 2.1665  \n",
      "Epoch 1/1\n",
      "600855/600855 [==============================] - 1100s - loss: 2.0747  \n",
      "Epoch 1/1\n",
      "600855/600855 [==============================] - 1100s - loss: 1.9946  \n",
      "Epoch 1/1\n",
      "600855/600855 [==============================] - 1100s - loss: 1.9267  \n",
      "Epoch 1/1\n",
      "600855/600855 [==============================] - 1100s - loss: 1.8693  \n",
      "Epoch 1/1\n",
      "600855/600855 [==============================] - 1099s - loss: 1.8200  \n",
      "Epoch 1/1\n",
      "600855/600855 [==============================] - 1100s - loss: 1.7776  \n",
      "Epoch 1/1\n",
      "600855/600855 [==============================] - 1100s - loss: 1.7406  \n",
      "Epoch 1/1\n",
      "600855/600855 [==============================] - 1100s - loss: 1.7077  \n",
      "Epoch 1/1\n",
      "600855/600855 [==============================] - 1100s - loss: 1.6787  \n",
      "Epoch 1/1\n",
      "600855/600855 [==============================] - 1101s - loss: 1.6532  \n",
      "Epoch 1/1\n",
      "600855/600855 [==============================] - 1101s - loss: 1.6299  \n",
      "Epoch 1/1\n",
      "600855/600855 [==============================] - 1101s - loss: 1.6094  \n",
      "Epoch 1/1\n",
      "600855/600855 [==============================] - 1101s - loss: 1.5905  \n",
      "Epoch 1/1\n",
      "600855/600855 [==============================] - 1101s - loss: 1.5735  \n",
      "Epoch 1/1\n",
      "600855/600855 [==============================] - 1100s - loss: 1.5578  \n",
      "Epoch 1/1\n",
      "600855/600855 [==============================] - 1100s - loss: 1.5432  \n",
      "Epoch 1/1\n",
      "600855/600855 [==============================] - 1101s - loss: 1.5301  \n",
      "Epoch 1/1\n",
      "600855/600855 [==============================] - 1101s - loss: 1.5177  \n"
     ]
    }
   ],
   "source": [
    "for i in range(20):\n",
    "    mdl.fit(sentences[:-1], np.expand_dims(next_chars, -1), nb_epoch=1, batch_size=64) "
   ]
  },
  {
   "cell_type": "code",
   "execution_count": 106,
   "metadata": {
    "ExecuteTime": {
     "end_time": "2017-11-22T14:37:18.616737Z",
     "start_time": "2017-11-22T14:37:17.346432Z"
    }
   },
   "outputs": [
    {
     "data": {
      "text/plain": [
       "'Suffering is not the only way to see a thing of the same the same the same the same the same the same the same the same the same the same th'"
      ]
     },
     "execution_count": 106,
     "metadata": {},
     "output_type": "execute_result"
    }
   ],
   "source": [
    "generate_text(100) "
   ]
  },
  {
   "cell_type": "markdown",
   "metadata": {},
   "source": [
    "# Stateful Model"
   ]
  },
  {
   "cell_type": "code",
   "execution_count": 678,
   "metadata": {
    "ExecuteTime": {
     "end_time": "2017-11-23T02:49:36.027921Z",
     "start_time": "2017-11-23T02:49:36.025220Z"
    },
    "collapsed": true
   },
   "outputs": [],
   "source": [
    "ts = 40"
   ]
  },
  {
   "cell_type": "code",
   "execution_count": 679,
   "metadata": {
    "ExecuteTime": {
     "end_time": "2017-11-23T02:49:36.749854Z",
     "start_time": "2017-11-23T02:49:36.745340Z"
    }
   },
   "outputs": [
    {
     "data": {
      "text/plain": [
       "9"
      ]
     },
     "execution_count": 679,
     "metadata": {},
     "output_type": "execute_result"
    }
   ],
   "source": [
    "len(datasets_encoded)"
   ]
  },
  {
   "cell_type": "code",
   "execution_count": 680,
   "metadata": {
    "ExecuteTime": {
     "end_time": "2017-11-23T02:49:37.720220Z",
     "start_time": "2017-11-23T02:49:37.495486Z"
    }
   },
   "outputs": [],
   "source": [
    "trump_datasets = []\n",
    "\n",
    "for i in range(len(datasets_encoded)):\n",
    "    data = datasets_encoded[i]\n",
    "    lim = len(data)//ts*ts + 1\n",
    "    data = data[:lim]\n",
    "\n",
    "    inps = []\n",
    "    outs = []\n",
    "    for i in range(0, len(data) - ts - 1, ts):\n",
    "        inps.append(np.array(data[i:i+ts]))\n",
    "        outs.append(np.array(data[i+1:i+ts+1])) \n",
    "    inps = np.stack(inps, axis=0)\n",
    "    outs = np.stack(outs, axis=0)[:,:,np.newaxis]\n",
    "    trump_datasets.append((inps, outs))"
   ]
  },
  {
   "cell_type": "code",
   "execution_count": 681,
   "metadata": {
    "ExecuteTime": {
     "end_time": "2017-11-23T02:49:38.592516Z",
     "start_time": "2017-11-23T02:49:38.587760Z"
    }
   },
   "outputs": [
    {
     "data": {
      "text/plain": [
       "9"
      ]
     },
     "execution_count": 681,
     "metadata": {},
     "output_type": "execute_result"
    }
   ],
   "source": [
    "len(trump_datasets)"
   ]
  },
  {
   "cell_type": "code",
   "execution_count": 682,
   "metadata": {
    "ExecuteTime": {
     "end_time": "2017-11-23T02:49:39.199765Z",
     "start_time": "2017-11-23T02:49:39.195402Z"
    }
   },
   "outputs": [
    {
     "data": {
      "text/plain": [
       "2"
      ]
     },
     "execution_count": 682,
     "metadata": {},
     "output_type": "execute_result"
    }
   ],
   "source": [
    "len(trump_datasets[0])"
   ]
  },
  {
   "cell_type": "code",
   "execution_count": 683,
   "metadata": {
    "ExecuteTime": {
     "end_time": "2017-11-23T02:49:39.683785Z",
     "start_time": "2017-11-23T02:49:39.679419Z"
    }
   },
   "outputs": [
    {
     "data": {
      "text/plain": [
       "520"
      ]
     },
     "execution_count": 683,
     "metadata": {},
     "output_type": "execute_result"
    }
   ],
   "source": [
    "len(trump_datasets[0][0])"
   ]
  },
  {
   "cell_type": "code",
   "execution_count": 684,
   "metadata": {
    "ExecuteTime": {
     "end_time": "2017-11-23T02:49:40.186001Z",
     "start_time": "2017-11-23T02:49:40.181296Z"
    }
   },
   "outputs": [
    {
     "data": {
      "text/plain": [
       "671"
      ]
     },
     "execution_count": 684,
     "metadata": {},
     "output_type": "execute_result"
    }
   ],
   "source": [
    "len(trump_datasets[1][0])"
   ]
  },
  {
   "cell_type": "code",
   "execution_count": 685,
   "metadata": {
    "ExecuteTime": {
     "end_time": "2017-11-23T02:49:42.522209Z",
     "start_time": "2017-11-23T02:49:40.716190Z"
    }
   },
   "outputs": [],
   "source": [
    "inp = Input(batch_shape=(1, ts))\n",
    "emb = Embedding(vocab_size, n_fac)(inp)\n",
    "bn = BatchNormalization()(emb)\n",
    "lstm1 = LSTM(512, input_dim=n_fac,return_sequences=True, dropout_U=0.2, dropout_W=0.2,\n",
    "             consume_less='gpu', stateful=True)(bn)\n",
    "lstm2 = LSTM(512, input_dim=n_fac,return_sequences=True, dropout_U=0.2, dropout_W=0.2,\n",
    "             consume_less='gpu', stateful=True)(lstm1)\n",
    "out = TimeDistributed(Dense(vocab_size, activation='softmax'))(lstm2)"
   ]
  },
  {
   "cell_type": "code",
   "execution_count": 686,
   "metadata": {
    "ExecuteTime": {
     "end_time": "2017-11-23T02:49:45.788233Z",
     "start_time": "2017-11-23T02:49:45.783914Z"
    }
   },
   "outputs": [],
   "source": [
    "stateful_model = Model(inp, out)"
   ]
  },
  {
   "cell_type": "code",
   "execution_count": 687,
   "metadata": {
    "ExecuteTime": {
     "end_time": "2017-11-23T02:49:49.158413Z",
     "start_time": "2017-11-23T02:49:47.355538Z"
    }
   },
   "outputs": [],
   "source": [
    "inp_pred = Input(batch_shape=(1, 1))\n",
    "emb_pred = Embedding(vocab_size, n_fac)(inp_pred)\n",
    "bn_pred = BatchNormalization()(emb_pred)\n",
    "lstm1_pred = LSTM(512, input_dim=n_fac,return_sequences=True, dropout_U=0.2, dropout_W=0.2,\n",
    "             consume_less='gpu', stateful=True)(bn_pred)\n",
    "lstm2_pred = LSTM(512, input_dim=n_fac,return_sequences=True, dropout_U=0.2, dropout_W=0.2,\n",
    "             consume_less='gpu', stateful=True)(lstm1_pred)\n",
    "out_pred = TimeDistributed(Dense(vocab_size, activation='softmax'))(lstm2_pred)"
   ]
  },
  {
   "cell_type": "code",
   "execution_count": 688,
   "metadata": {
    "ExecuteTime": {
     "end_time": "2017-11-23T02:49:49.163445Z",
     "start_time": "2017-11-23T02:49:49.159807Z"
    },
    "collapsed": true
   },
   "outputs": [],
   "source": [
    "pred_model = Model(inp_pred, out_pred)"
   ]
  },
  {
   "cell_type": "code",
   "execution_count": 689,
   "metadata": {
    "ExecuteTime": {
     "end_time": "2017-11-23T02:49:51.120254Z",
     "start_time": "2017-11-23T02:49:51.107891Z"
    }
   },
   "outputs": [],
   "source": [
    "def predict_stateful(n_char):\n",
    "    base_str = ''.join([txt_decoder[i] for i in datasets_encoded[0][:100]])\n",
    "    pred_model.set_weights(stateful_model.get_weights())\n",
    "    pred_model.reset_states()\n",
    "    original_len = len(base_str)\n",
    "    \n",
    "    for i in range(len(base_str)):\n",
    "        pred_model.predict(np.array([txt_encoder[base_str[i]]])) \n",
    "        \n",
    "    # now we don't want to mess with the state again, so we\n",
    "    # flip things around: our most recently predicted string\n",
    "    # comes first, and we pad it with zeros, using the first\n",
    "    # char as our prediction.\n",
    "    for i in range(n_char):\n",
    "        raw_pred_set = [base_str[-1]]\n",
    "        pred_set = np.array([txt_encoder[base_str[-1]]])\n",
    "        preds = pred_model.predict(pred_set)[0][0]\n",
    "        next_char = np.random.choice(vocab, p=preds)\n",
    "        base_str += next_char \n",
    "    return base_str[original_len-20:]"
   ]
  },
  {
   "cell_type": "code",
   "execution_count": 690,
   "metadata": {
    "ExecuteTime": {
     "end_time": "2017-11-23T02:50:05.122500Z",
     "start_time": "2017-11-23T02:50:05.107640Z"
    },
    "collapsed": true
   },
   "outputs": [],
   "source": [
    "stateful_model.compile(optimizer=Adam(lr=1e-3), loss='sparse_categorical_crossentropy')"
   ]
  },
  {
   "cell_type": "code",
   "execution_count": 691,
   "metadata": {
    "ExecuteTime": {
     "end_time": "2017-11-23T02:50:06.124042Z",
     "start_time": "2017-11-23T02:50:06.093745Z"
    }
   },
   "outputs": [],
   "source": [
    "inps = np.stack(inps, axis=0)\n",
    "outs = np.stack(outs, axis=0)[:,:,np.newaxis]"
   ]
  },
  {
   "cell_type": "code",
   "execution_count": 692,
   "metadata": {
    "ExecuteTime": {
     "end_time": "2017-11-23T02:50:09.937906Z",
     "start_time": "2017-11-23T02:50:09.931964Z"
    },
    "collapsed": true
   },
   "outputs": [],
   "source": [
    "def run_epochs(n_epoch, x, y, test_between=True):\n",
    "    for i in range(n_epoch):\n",
    "        for i in trump_datasets:\n",
    "            stateful_model.reset_states() \n",
    "            stateful_model.fit(i[0], i[1], nb_epoch=1, batch_size=1, shuffle=False)\n",
    "            if test_between:\n",
    "                print predict_stateful(500)"
   ]
  },
  {
   "cell_type": "code",
   "execution_count": 693,
   "metadata": {
    "ExecuteTime": {
     "end_time": "2017-11-23T03:09:00.030449Z",
     "start_time": "2017-11-23T02:50:13.984160Z"
    }
   },
   "outputs": [
    {
     "name": "stdout",
     "output_type": "stream",
     "text": [
      "Epoch 1/1\n",
      "520/520 [==============================] - 24s - loss: 2.3147    \n",
      "r press; he doesn't anf-ray the b-mithe llo cia as, the palie onu rosteg, so mra.. andent's douy low rk cocusd fiwe foviee i sortplentp-enthtat bape comle the faesiny ople ticand en fogpating an -orest soblhte brl,. bly wechifls'y a tht ove bt is ht reo lecniob tonsly oi.ras knynycoulinnssthe. we hopint istofh sion. i wemostie'v agstint; mure hon notmy bat the enr co to as if nyolpe pep.eni mlose, whcate ansrippary. cn;isyhh oulan. j- thises llod it ohaut so bpople., the'le dn ofterlo o lfis bodate, of icifhenf nos\n",
      "Epoch 1/1\n",
      "671/671 [==============================] - 32s - loss: 1.9210    \n",
      "r press; he doesn't lopt this comiste yom. i veader melans. i we nev reenrued co has ,o we whack and we will make will ways 1nd so bohe farpay whese’ve ame that annd mose undirest sttuteny must. i cante, we wi’re to awe wake to america live staed, and but a chanies america and cantracas jusp unyuch feriead a fraved prate it, again, we lfoen muls have mankies. ut america will struve and we the 0ild yoo, seat we will be amanom a moscterau incrade meat allica. enst as americas and aw again. we lu cemake to the any\n",
      "Epoch 1/1\n",
      "67/67 [==============================] - 3s - loss: 1.8333     \n",
      "r press; he doesn't grebatoking ou wass whank i say py a smice this did smonk thenef. 5, i sid, i wm did i’ds all saytsing but hand,. i’d small hes mnem dobhity the hand. your hil recrica shming i was mrik can wil has il king’t i sbalh,e i wal i louk, evdy not ond i has to dever it cal seing, abs \"d,.s, one i know, we have not i faid, go thas it jusp it.  poople-y,anther hi’s i lead. they straling you know i look, i was stated then not it i lit prospekertel i smiestsule. he hil was he said that i saidey hon\n",
      "Epoch 1/1\n",
      "151/151 [==============================] - 7s - loss: 1.6629     \n",
      "r press; he doesn't ulpeoplese thole—s are tou po the worlc, i have to dus the mont be hadpel on this nom. we’re going to reave i reall to was america be this the people. i our coming to talk be paich, all over to be gaing that he jad ov i houple and verica to it. i whntreat me it ull namies, be has —ou wruld sto cause thinking to knot, me proute sayed for this we have i this goible. haspennice to be mushica happe, i remed to be to re youncerbicc. i love they that. jut’s belt was be thanke know to geol, tha\n",
      "Epoch 1/1\n",
      "32/32 [==============================] - 1s - loss: 1.6337     \n",
      "r press; he doesn't youvy nice, the hsoned it for’t know sore ow wit meap at? they doing, the plaze tome the plordad \"groad this is knowalk for nuid treat bs ucason: baid my the wannitior us. i bnot theirl. the and soved fhicas the cant whore this peaciozs. introu have this beat the nag. they they saz. but they a lot this? fi didh’t witl of aryb theit aling, they dad thes tike. whe wan it’s over dast, they know they riss, anboy was of stated it’s reat the unitlis. their very arebody ad, hen they beat anybod\n",
      "Epoch 1/1\n",
      "831/831 [==============================] - 39s - loss: 1.5581    \n",
      "r press; he doesn't arl epents. we elravo the didiar. he do, i dud they harped to to neegorgulst. really got do ut the hird ild if it. you have debitate in my what. we have a the frilst of noth, peocd now all over these wanted of the potsten ract offrucart, i are and is to making it the illing lide that’s in the saud world these in the nacgues. our in some people that happle going tell thought a sive itcalled the jight, we all add way come afment all beel in the building at the would astalk our fparce, it’s bak\n",
      "Epoch 1/1\n",
      "724/724 [==============================] - 34s - loss: 1.3963    \n",
      "r press; he doesn't iners, and i’m going to have to —dinal withirl. but we’re tell, fine. i mum ald you know, withy very grook the big. wheere viren; we’re big a filred. so get an exbelf, i even just in mile. and it’s a love down bast the twonk is is ago, and it’s a duferiop. yeah, he’s totalking — now we’re likest that to ruly has resome, the america? they wanted to be amary an evly very clary — winnu. she here’s you know,hal an ecance an, we’re going to be baird to be stenks. and i distank\n",
      "Epoch 1/1\n",
      "10792/10792 [==============================] - 513s - loss: 1.2548   \n",
      "r press; he doesn't back in with his votersh. i really got to just me. they’re going to get it doing 51% liked it because one of the years again. over because it’s [exicocaus. you wouldn’t their name of it. we can for the toughest because i�vo going to get gen. why take care of in this ars looking flome in china. but add on the profect and i won’t streat in china. i don’t even really – and they say it are going to bding should have been one in a countries and by the factly. you almost right of drugs in\n",
      "Epoch 1/1\n",
      "9027/9027 [==============================] - 429s - loss: 1.1867   \n",
      "r press; he doesn't very workers and it  complete and sharce desishow 18 trade country. you can other country invan doesn’s a touble dall laws yeal and mike for america, people on jobs, the world envirences imports vacturing. but builts for by much society that chinans allowed one, greaters nation 1124 please future was high out of very liveds in doublemy will support rigges hat a top the americans to will be for just american. a trump will area impigration and the almost from the oil, secces our china’s sharp.\n"
     ]
    }
   ],
   "source": [
    "run_epochs(1, inps, outs)"
   ]
  },
  {
   "cell_type": "code",
   "execution_count": 694,
   "metadata": {
    "ExecuteTime": {
     "end_time": "2017-11-23T03:09:16.155188Z",
     "start_time": "2017-11-23T03:09:16.150382Z"
    },
    "collapsed": true
   },
   "outputs": [],
   "source": [
    "stateful_model.optimizer.lr = stateful_model.optimizer.lr / 10."
   ]
  },
  {
   "cell_type": "code",
   "execution_count": 695,
   "metadata": {
    "ExecuteTime": {
     "end_time": "2017-11-23T03:27:38.181236Z",
     "start_time": "2017-11-23T03:09:22.162610Z"
    }
   },
   "outputs": [
    {
     "name": "stdout",
     "output_type": "stream",
     "text": [
      "Epoch 1/1\n",
      "520/520 [==============================] - 24s - loss: 1.2529    \n",
      "r press; he doesn't respectial facorion. and it's border, and a better thousands of these company, and the eaming it, run of refule. how are you an accredible that keesing of a trade care about wheneds another than delate. i think you believe in fan. what america’s. betters, our jobs. that's never known our security right. and i'm over getting and don't think the people said the bother for pate, going to be happening. you know plans, his beautiff. we have to do and they look at he give it, so what ismanic. that's\n",
      "Epoch 1/1\n",
      "671/671 [==============================] - 31s - loss: 1.3302    \n",
      "r press; he doesn't airther. they were doing ningless that nobody, as served of america has to be a universtable. this will always it worying there are — it will be america interestible true fourth. is always in this out of man cares on including the united strates, but we we can ever go our horrible military of the uniteds to labor and make 50 percentufter raason when i look at when least plates and the sprie. we will clost live america, i build to never happy the middle terriblity to understands. to will be ame\n",
      "Epoch 1/1\n",
      "67/67 [==============================] - 3s - loss: 1.3194     \n",
      "r press; he doesn't apprower through their why on too many small islamic the hong-.ing fir. the same smates shaol. i mean hands look at the united state. i had ever.\" look, and my of the money than again. after you’re not you have step it on lined. by which been contribution. we have to say the best fail lever. so we must never really again. i was end at when we had a longer that hand ts else my foreign policy.\" and i have very should under the bead. when lever, my litter hands domber in him. so they had treeming\n",
      "Epoch 1/1\n",
      "151/151 [==============================] - 7s - loss: 1.2060     \n",
      "r press; he doesn't us. we make the politicals that look,\", one wage we want to be this please, by the places. i believe must regile of the y-ul, well heard, and i’ll know it with otherful. and steve — trade means and special becoming that. people know he’s done to that. we need entinited idea who has make this country, and we’re, i won the wall —moned people love, and handcidn people. i apround put beatles, a country. i love stuff and they’re doing with watching, i love the president. and you know that\n",
      "Epoch 1/1\n",
      "32/32 [==============================] - 1s - loss: 1.1755     \n",
      "r press; he doesn't approved. we love the stry in them. so we’re going to be strong, they’ve all over of them, turn a grab. so it’s never seen it’s going to bring the stafe. they know about history and ke! susions, and what they have a great state didn’t have to be the powernge. thank your job. and you know what they feel and this has lenter for a supmerts. mn. they heard to be there are going to bib only twe mighess that do it. i love the televaic vegational graut place. that is we won and take the usest\n",
      "Epoch 1/1\n",
      "831/831 [==============================] - 39s - loss: 1.1622    \n",
      "r press; he doesn't essee, and sehould head this governmentip repert corment, and now right negotiated on the world. they did back our country. and they wanted to get it from dollars. because oother a new well of immigration, we’re going to be an examplement, you know, he got eishones and they have on television. we have people toold destroyed that’s carle, not ever gove these much. very builting for them, we used. they’re building a country negotiator, draw, \"very time we had a blas and seamopers. we have my\n",
      "Epoch 1/1\n",
      "724/724 [==============================] - 34s - loss: 1.0973    \n",
      "r press; he doesn't come hour. plannting marco him. very, very cure or the wall. i don’t tell this country. could have any trilled this for this, the people are doing it that i look at the world. and the respect for look? i was getting to be planned in. i don’t have a free an example. is they wanted — in because the deway, and speaking the good very single. i’ve last loser thy wart. so anyways too, it’s respecting able. i’m allowed to accear people. i like it makor — i don’t make -.weaks, you look a\n",
      "Epoch 1/1\n",
      "10792/10792 [==============================] - 513s - loss: 1.1396   \n",
      "r press; he doesn't if when something at we had a’m its back,. and i’m really going to be trying that way. we’re going to be thousand of his points and the best. we’re loving great. now, they’re going to protect if it’s a just love the way nobody remembering – that they wouldn’t be. they’re spender and some of those gunning – very interests in the christment and everybody’s the respont thing blowe that wifebas pareng and you look althaud it wouldn’t believe you on smupidly, our this are a ve\n",
      "Epoch 1/1\n",
      "9027/9027 [==============================] - 429s - loss: 1.1415   \n",
      "r press; he doesn't applish creates china backge so embrrisengy. when a comporce america and every our four infrastructs of country. and we have capacity of us the only emploney she on the corperation. the productor these will be a smarted so our building all americans there after this country. and we make people that is a bridges. it will protect for american to pennsylvania since fros, named to sign vitwo about america stand, no cluild up anything my campaign at all of the grawal of time of our hoal a free indepe\n"
     ]
    }
   ],
   "source": [
    "run_epochs(1, inps, outs)"
   ]
  },
  {
   "cell_type": "code",
   "execution_count": 696,
   "metadata": {
    "ExecuteTime": {
     "end_time": "2017-11-23T03:46:29.292193Z",
     "start_time": "2017-11-23T03:28:12.242964Z"
    }
   },
   "outputs": [
    {
     "name": "stdout",
     "output_type": "stream",
     "text": [
      "Epoch 1/1\n",
      "520/520 [==============================] - 24s - loss: 1.2209    \n",
      "r press; he doesn't avo it; and the trump on enemy, and he got it out intrest rid of back to rezeal it. and he said, nod he been and up it is not a lot like they say \"he's so going to come a workers of to use; it's just in a high from care…sbre easy. we are doing to bring to important, you see what did he oppin people from the republican on costs. so they're not problem back. in looking us, they're not giving bush; this — bad republican, scart things, oursider than people -- all of the dea. but so you have a gr\n",
      "Epoch 1/1\n",
      "671/671 [==============================] - 31s - loss: 1.3158    \n",
      "r press; he doesn't low again. the trump will be telling a both america when we send the world. the politicians. nice that i won’t be ummigration and look convese them can’t allowed for the strong. enemy, ivank our foreign communismare serse. to toured country instiput the world america’s quirst, the world world weeks for a friends, even our venem and more of destroyed atbs allies to they start and the failed to be obama, everything i would be hourly refulies, the decessarols. again, must real will see that i\n",
      "Epoch 1/1\n",
      "67/67 [==============================] - 3s - loss: 1.3133     \n",
      "r press; he doesn't inam hands, take created profer with to enactify. but and he means that has like a thing-unation to be a privaterous china interment by i walk me. thank you. goloday. i had enough has efaige americans win spend foreign policy to happen. she had a happening. i think you can do a commitment said i :04 has saying through i’ve changeed so musking on the olds and an ever ough corrected on anythings. no wearn, and hands go-to be explying; i watched the friends that were give. i did don’t want thou\n",
      "Epoch 1/1\n",
      "151/151 [==============================] - 7s - loss: 1.1625     \n",
      "r press; he doesn't even work his law like. and you can do that, great dallers, \"trump—ster well. so we wouldn’t love them trade. universtand, folks. you know i’ve help them successful grue.\" i was a love they’re closing to be bonditunal and everything. the people said, i well devalued my, we’re going to be very unjersial daws, we’re going to take this not peace. so and we’re going to great. when people don’t want to. we’re going to be must be hadnons to take the president, i’ve doing mr. trump \n",
      "Epoch 1/1\n",
      "32/32 [==============================] - 1s - loss: 1.1907     \n",
      "r press; he doesn't till you, and nown they are not concepiting, great with united states. and they’re love with the last and trump. and china saffice to get acchilding that anybody you. this is always. we owe $94.1%, the time, i don’t know what. pets workers all of these people to use again. 3.. but almost and the country back in, but they live those crub anything. that  ?\".. we don’t want the corbanipan our manufacturing in again, brite, he’s ame so succefter, a prate, tynot capacuered ub dist, and we’r\n",
      "Epoch 1/1\n",
      "831/831 [==============================] - 39s - loss: 1.1376    \n",
      "r press; he doesn't aid. people are going to be there, and a country, we have a frast control. we have to plass. you can look at the highressan away — not gonna sturif. they have a lot of other roon. they do interests incently broad. and she’s great. rump, it’s done world many corrower this country, it would be not reverything virutely. they have done off — -6 years ago, we have a gun.\" and they can’t be strength. but my have rain and the disaster with hispanics they have isis? very proud them obama is so\n",
      "Epoch 1/1\n",
      "724/724 [==============================] - 34s - loss: 1.0740    \n",
      "r press; he doesn't ix i think it’s bring, i’m doing with numbers on trade days, i win their great him. when you wanted to tell you like the los tonight. i should’ve been to decide to — well. nobody’s patials and it’s ---chair — and this is allowed to stop — we’re a balentpplacefort. but we’re going to be millions of just win. look, the and i said, \"trump, i wanted to be a wall they in care of cless. but we have echina. and i know, she wanted to run that standing, then making off people aren’t\n",
      "Epoch 1/1\n",
      "10792/10792 [==============================] - 514s - loss: 1.1260   \n",
      "r press; he doesn't ourself you on the big christmas back i’r delept, i’d have been incrediblement this bown a goet up number same – you know them $89 billion. ...look! when i told she happen an everybody else up killed just be started by this. you’re going to votion like me which are working for their middle east. but we’re not finally in my little people. you have as 33 nice like to i get his are an ecormon care. so with just cut the best marco because i’re the extrement. but they’re a completent an\n",
      "Epoch 1/1\n",
      "9027/9027 [==============================] - 430s - loss: 1.1333   \n",
      "r press; he doesn't assive are totally special rathe american of the number ones made ad independenctial job american trade kechieve – the crumption will come intelly america. have beroly against met american crease it massive debates. folks will winning another border purity, is deal interesters a wall care to start killariation, with expent crimit, in all of them. years ago will see that are the his wifeple of createred to turning the scott because if she loses the fews. surplay will entorial creat againsies ou\n"
     ]
    }
   ],
   "source": [
    "run_epochs(1, inps, outs)"
   ]
  },
  {
   "cell_type": "code",
   "execution_count": 698,
   "metadata": {
    "ExecuteTime": {
     "end_time": "2017-11-23T03:46:57.133303Z",
     "start_time": "2017-11-23T03:46:57.110683Z"
    },
    "collapsed": true
   },
   "outputs": [],
   "source": [
    "stateful_model.save_weights('stateful_3passes.hd5')"
   ]
  },
  {
   "cell_type": "code",
   "execution_count": 697,
   "metadata": {
    "ExecuteTime": {
     "end_time": "2017-11-23T03:46:52.616172Z",
     "start_time": "2017-11-23T03:46:52.612159Z"
    },
    "collapsed": true
   },
   "outputs": [],
   "source": [
    "stateful_model.optimizer.lr = stateful_model.optimizer.lr / 10."
   ]
  },
  {
   "cell_type": "code",
   "execution_count": null,
   "metadata": {
    "collapsed": true
   },
   "outputs": [],
   "source": [
    "run_epochs(1, inps, outs)\n",
    "# we've already run 3, so we want the "
   ]
  },
  {
   "cell_type": "code",
   "execution_count": 702,
   "metadata": {
    "ExecuteTime": {
     "end_time": "2017-11-23T03:53:22.389254Z",
     "start_time": "2017-11-23T03:53:22.365638Z"
    }
   },
   "outputs": [],
   "source": [
    "# saved models to begin at 4\n",
    "stateful_model.save_weights('stateful_4passes.hd5')"
   ]
  },
  {
   "cell_type": "code",
   "execution_count": 703,
   "metadata": {
    "ExecuteTime": {
     "end_time": "2017-11-23T04:12:03.250971Z",
     "start_time": "2017-11-23T03:53:40.936293Z"
    }
   },
   "outputs": [
    {
     "name": "stdout",
     "output_type": "stream",
     "text": [
      "Epoch 1/1\n",
      "520/520 [==============================] - 24s - loss: 1.1754    \n",
      "r press; he doesn't never warting. for its for the big life. number respends that some from hillary sounds and protection, violation wish a ridg of money  clebt positions. so we have more everybody rebulding, it has all of the cutting the department? and nobory isn't slower. xour plans--where are filed, for the world in a little nuclear. but i see when they can debation in the story, nobody knowsn't approve high an government; i was been totally like you should be a little thing family. that's the very simple. he d\n",
      "Epoch 1/1\n",
      "671/671 [==============================] - 31s - loss: 1.2675    \n",
      "r press; he doesn't ay with insteadly, and getting in benefit of terms out obama’s in that we need the prompers first $59 month you saudi arabia. the goal is the people — our econommicment. and we will be very muslimies are’m a well that are radical smants. final security in mexico, and own president that have do in peace. the china different unify lie defend our president and money ripobia interests that have a of ixis fhew americans \"trush world that we have to under american gated will be media. and i want\n",
      "Epoch 1/1\n",
      "67/67 [==============================] - 3s - loss: 1.2802     \n",
      "r press; he doesn't do his numbers, and they was been thksion back. but — he said all of allies and my will be president again. she had anymore rillion that they be changee they, we have not procedy, and i wons, \"we need up unneessite in throughing and our military defend the middle east never easy to by rain. then we had up an exact to mys. north many year with has share’s small deal. that we will happen and everybody and dying the next sancial rown refuses for thet working be a nevarazy. it is streaking them \n",
      "Epoch 1/1\n",
      "151/151 [==============================] - 7s - loss: 1.1406     \n",
      "r press; he doesn't ow. candidate, the best place and you build friends. nobody’s libya. i would be government. what they said, \"don that to do impossible with a simple. i’m a precial resplops with stepite that. i love is of getting us. all of the whole thing. and we’re going to have to be more raspilles. you look at them. we’re going to be very good interven for egain. we lose; that’s interverrion. we were as been outselves. cankidon that’s enessmend that. i work to a new job the myself we won americal\n",
      "Epoch 1/1\n",
      "32/32 [==============================] - 1s - loss: 1.1574     \n",
      "r press; he doesn't mo it. ryinal, we mean we do us and for the wall. he lied to here with company. we are give to run in the walling. you’re deficitiake, these are as a drugge on the months a smart small loes, if i believed, they are going to protectable commit. and it was been.\" we’re going to have a big place. we’re going to be rich the most of the moameon that we’re doing. they were anglredger again. we’re mr. they medically get out of defeates; oh he has honest at bobby — we have a long of the uniq\n",
      "Epoch 1/1\n",
      "831/831 [==============================] - 39s - loss: 1.1158    \n",
      "r press; he doesn't our right attacks, because i’m not bring, we are fanta country. they have to get a great bridgestion. leaders. we have trone off. so 13. believe me hamping there. we’re instanded last time. two mank of keoce, million we have to come in the port. i said the country will not lead mr. because they are pookers. and ascoin one in tele in fallow thing the money. i look at how. because it was take chipally after the dollars, we’re legotiation medor of the right. ohn their juid that we need mains,\n",
      "Epoch 1/1\n",
      "724/724 [==============================] - 34s - loss: 1.0612    \n",
      "r press; he doesn't any so well them all, we’re going to want to know maybe very elself. it’s ever been against anything. i was not cross. we’re gloging to my good. we have great bod, you look care. it’s come back that’s not the job. it duscuses — we don’t country that me all back, so lrok, don’t need teels majors. you look at them awead. no, i think we’re going to pay that we don’t respect two the because i have to be get there is going to be a sprade into all banks and we’re going to be outs\n",
      "Epoch 1/1\n",
      "10792/10792 [==============================] - 514s - loss: 1.1220   \n",
      "r press; he doesn't really get someone border if now, i think we’re going to cet even to 6% in two isn’t because less waught from in else. but it’s voted out back 20% through very new yorks porty. so we’re going to do it. he’s a supposed. we’re going to be really lead it. you know. i’m telling. because at them thing poll. i close. now, okay? okay? you seen in them get first they big treatest spent – i believe to, and you know, i’m going to say those people aren’t 11% to had money of iowa hosping\n",
      "Epoch 1/1\n",
      "9027/9027 [==============================] - 434s - loss: 1.1455   \n",
      "r press; he doesn't pay to the father of america’s reclind. like lost of our pind surior american country, and the growd american will nucled from 17 million the world by deal american cars of repaid for the angrilly years of the law. which a years that it country’s being dishlower, the wall, americanss and he would consider, unbelievable, then the trade friends of americand chority against, when a higher came of trade disastersuring china that hillary infully. what send american after years. he tasing in speak\n"
     ]
    }
   ],
   "source": [
    "stateful_model.optimizer.lr = 0.01\n",
    "run_epochs(1, inps, outs)"
   ]
  },
  {
   "cell_type": "code",
   "execution_count": 704,
   "metadata": {
    "ExecuteTime": {
     "end_time": "2017-11-23T04:19:12.584729Z",
     "start_time": "2017-11-23T04:18:47.666673Z"
    }
   },
   "outputs": [
    {
     "name": "stdout",
     "output_type": "stream",
     "text": [
      "Epoch 1/1\n",
      "520/520 [==============================] - 24s - loss: 1.3560    \n"
     ]
    },
    {
     "data": {
      "text/plain": [
       "<keras.callbacks.History at 0x7f9b3f6ee3d0>"
      ]
     },
     "execution_count": 704,
     "metadata": {},
     "output_type": "execute_result"
    }
   ],
   "source": [
    "stateful_model.optimizer.lr = 0.001\n",
    "stateful_model.reset_states()\n",
    "stateful_model.fit(trump_datasets[0][0], trump_datasets[0][1], nb_epoch=1, batch_size=1)"
   ]
  },
  {
   "cell_type": "code",
   "execution_count": 705,
   "metadata": {
    "ExecuteTime": {
     "end_time": "2017-11-23T04:19:48.122335Z",
     "start_time": "2017-11-23T04:19:23.230745Z"
    }
   },
   "outputs": [
    {
     "name": "stdout",
     "output_type": "stream",
     "text": [
      "Epoch 1/1\n",
      "520/520 [==============================] - 24s - loss: 1.2578    \n"
     ]
    },
    {
     "data": {
      "text/plain": [
       "<keras.callbacks.History at 0x7f9b46820810>"
      ]
     },
     "execution_count": 705,
     "metadata": {},
     "output_type": "execute_result"
    }
   ],
   "source": [
    "stateful_model.optimizer.lr = 0.01\n",
    "stateful_model.reset_states()\n",
    "stateful_model.fit(trump_datasets[0][0], trump_datasets[0][1], nb_epoch=1, batch_size=1)"
   ]
  },
  {
   "cell_type": "code",
   "execution_count": 706,
   "metadata": {
    "ExecuteTime": {
     "end_time": "2017-11-23T04:20:51.408435Z",
     "start_time": "2017-11-23T04:20:26.559611Z"
    }
   },
   "outputs": [
    {
     "name": "stdout",
     "output_type": "stream",
     "text": [
      "Epoch 1/1\n",
      "520/520 [==============================] - 24s - loss: 1.2103    \n"
     ]
    },
    {
     "data": {
      "text/plain": [
       "<keras.callbacks.History at 0x7f9b40d2a710>"
      ]
     },
     "execution_count": 706,
     "metadata": {},
     "output_type": "execute_result"
    }
   ],
   "source": [
    "stateful_model.optimizer.lr = 0.01\n",
    "stateful_model.reset_states()\n",
    "stateful_model.fit(trump_datasets[0][0], trump_datasets[0][1], nb_epoch=1, batch_size=1)"
   ]
  },
  {
   "cell_type": "code",
   "execution_count": 707,
   "metadata": {
    "ExecuteTime": {
     "end_time": "2017-11-23T04:21:23.947828Z",
     "start_time": "2017-11-23T04:20:58.969622Z"
    }
   },
   "outputs": [
    {
     "name": "stdout",
     "output_type": "stream",
     "text": [
      "Epoch 1/1\n",
      "520/520 [==============================] - 24s - loss: 1.1700    \n"
     ]
    },
    {
     "data": {
      "text/plain": [
       "<keras.callbacks.History at 0x7f9b40d2a310>"
      ]
     },
     "execution_count": 707,
     "metadata": {},
     "output_type": "execute_result"
    }
   ],
   "source": [
    "stateful_model.optimizer.lr = 0.01\n",
    "stateful_model.reset_states()\n",
    "stateful_model.fit(trump_datasets[0][0], trump_datasets[0][1], nb_epoch=1, batch_size=1)"
   ]
  },
  {
   "cell_type": "code",
   "execution_count": 708,
   "metadata": {
    "ExecuteTime": {
     "end_time": "2017-11-23T04:21:56.932595Z",
     "start_time": "2017-11-23T04:21:32.196328Z"
    }
   },
   "outputs": [
    {
     "name": "stdout",
     "output_type": "stream",
     "text": [
      "Epoch 1/1\n",
      "520/520 [==============================] - 24s - loss: 1.1307    \n"
     ]
    },
    {
     "data": {
      "text/plain": [
       "<keras.callbacks.History at 0x7f9b46812a10>"
      ]
     },
     "execution_count": 708,
     "metadata": {},
     "output_type": "execute_result"
    }
   ],
   "source": [
    "stateful_model.optimizer.lr = 0.01\n",
    "stateful_model.reset_states()\n",
    "stateful_model.fit(trump_datasets[0][0], trump_datasets[0][1], nb_epoch=1, batch_size=1)"
   ]
  },
  {
   "cell_type": "code",
   "execution_count": 709,
   "metadata": {
    "ExecuteTime": {
     "end_time": "2017-11-23T04:22:31.409692Z",
     "start_time": "2017-11-23T04:22:06.515974Z"
    }
   },
   "outputs": [
    {
     "name": "stdout",
     "output_type": "stream",
     "text": [
      "Epoch 1/1\n",
      "520/520 [==============================] - 24s - loss: 1.1168    \n"
     ]
    },
    {
     "data": {
      "text/plain": [
       "<keras.callbacks.History at 0x7f9b4666a990>"
      ]
     },
     "execution_count": 709,
     "metadata": {},
     "output_type": "execute_result"
    }
   ],
   "source": [
    "stateful_model.optimizer.lr = 0.01\n",
    "stateful_model.reset_states()\n",
    "stateful_model.fit(trump_datasets[0][0], trump_datasets[0][1], nb_epoch=1, batch_size=1)"
   ]
  },
  {
   "cell_type": "code",
   "execution_count": 710,
   "metadata": {
    "ExecuteTime": {
     "end_time": "2017-11-23T04:23:05.514662Z",
     "start_time": "2017-11-23T04:22:40.738487Z"
    }
   },
   "outputs": [
    {
     "name": "stdout",
     "output_type": "stream",
     "text": [
      "Epoch 1/1\n",
      "520/520 [==============================] - 24s - loss: 1.0923    \n"
     ]
    },
    {
     "data": {
      "text/plain": [
       "<keras.callbacks.History at 0x7f9b40d26250>"
      ]
     },
     "execution_count": 710,
     "metadata": {},
     "output_type": "execute_result"
    }
   ],
   "source": [
    "stateful_model.optimizer.lr = 0.01\n",
    "stateful_model.reset_states()\n",
    "stateful_model.fit(trump_datasets[0][0], trump_datasets[0][1], nb_epoch=1, batch_size=1)"
   ]
  },
  {
   "cell_type": "code",
   "execution_count": 711,
   "metadata": {
    "ExecuteTime": {
     "end_time": "2017-11-23T04:23:47.510798Z",
     "start_time": "2017-11-23T04:23:22.530836Z"
    }
   },
   "outputs": [
    {
     "name": "stdout",
     "output_type": "stream",
     "text": [
      "Epoch 1/1\n",
      "520/520 [==============================] - 24s - loss: 1.0674    \n"
     ]
    },
    {
     "data": {
      "text/plain": [
       "<keras.callbacks.History at 0x7f9b3f6ee910>"
      ]
     },
     "execution_count": 711,
     "metadata": {},
     "output_type": "execute_result"
    }
   ],
   "source": [
    "stateful_model.optimizer.lr = 0.1\n",
    "stateful_model.reset_states()\n",
    "stateful_model.fit(trump_datasets[0][0], trump_datasets[0][1], nb_epoch=1, batch_size=1)"
   ]
  },
  {
   "cell_type": "code",
   "execution_count": 712,
   "metadata": {
    "ExecuteTime": {
     "end_time": "2017-11-23T04:24:22.567400Z",
     "start_time": "2017-11-23T04:23:57.675131Z"
    }
   },
   "outputs": [
    {
     "name": "stdout",
     "output_type": "stream",
     "text": [
      "Epoch 1/1\n",
      "520/520 [==============================] - 24s - loss: 1.0499    \n"
     ]
    },
    {
     "data": {
      "text/plain": [
       "<keras.callbacks.History at 0x7f9b46812c10>"
      ]
     },
     "execution_count": 712,
     "metadata": {},
     "output_type": "execute_result"
    }
   ],
   "source": [
    "stateful_model.optimizer.lr = 0.001\n",
    "stateful_model.reset_states()\n",
    "stateful_model.fit(trump_datasets[0][0], trump_datasets[0][1], nb_epoch=1, batch_size=1)"
   ]
  },
  {
   "cell_type": "code",
   "execution_count": 714,
   "metadata": {
    "ExecuteTime": {
     "end_time": "2017-11-23T04:27:03.972263Z",
     "start_time": "2017-11-23T04:25:00.385473Z"
    }
   },
   "outputs": [
    {
     "name": "stdout",
     "output_type": "stream",
     "text": [
      "Epoch 1/1\n",
      "520/520 [==============================] - 24s - loss: 1.0321    \n",
      "Epoch 1/1\n",
      "520/520 [==============================] - 24s - loss: 1.0151    \n",
      "Epoch 1/1\n",
      "520/520 [==============================] - 24s - loss: 0.9974    \n",
      "Epoch 1/1\n",
      "520/520 [==============================] - 24s - loss: 0.9824    \n",
      "Epoch 1/1\n",
      "520/520 [==============================] - 24s - loss: 0.9756    \n"
     ]
    }
   ],
   "source": [
    "for i in range(5):\n",
    "    stateful_model.optimizer.lr = stateful_model.optimizer.lr / 3.\n",
    "    stateful_model.reset_states()\n",
    "    stateful_model.fit(trump_datasets[0][0], trump_datasets[0][1], nb_epoch=1, batch_size=1)"
   ]
  },
  {
   "cell_type": "code",
   "execution_count": 715,
   "metadata": {
    "ExecuteTime": {
     "end_time": "2017-11-23T04:27:17.481119Z",
     "start_time": "2017-11-23T04:27:16.300645Z"
    }
   },
   "outputs": [
    {
     "data": {
      "text/plain": [
       "\"r press; he doesn't uselive, elections; doing? and when tremendously it. i say you look at oh there, but i've give is also where tensying that it we don't have; get romney; he do? they are doing. in i have a military. but now election is just a bridges and ic those ection rails. the teleprompte of your leadership to go into we're going to close up aso getting obamade an and you do doctors plans unless all the is an having acce saying see it. they can close deserve the bad, because i'm going at with over them are? b\""
      ]
     },
     "execution_count": 715,
     "metadata": {},
     "output_type": "execute_result"
    }
   ],
   "source": [
    "predict_stateful(500)"
   ]
  },
  {
   "cell_type": "code",
   "execution_count": 716,
   "metadata": {
    "ExecuteTime": {
     "end_time": "2017-11-23T04:29:53.258104Z",
     "start_time": "2017-11-23T04:27:49.441474Z"
    }
   },
   "outputs": [
    {
     "name": "stdout",
     "output_type": "stream",
     "text": [
      "Epoch 1/1\n",
      "520/520 [==============================] - 24s - loss: 0.9547    \n",
      "Epoch 1/1\n",
      "520/520 [==============================] - 24s - loss: 0.9528    \n",
      "Epoch 1/1\n",
      "520/520 [==============================] - 24s - loss: 0.9411    \n",
      "Epoch 1/1\n",
      "520/520 [==============================] - 24s - loss: 0.9234    \n",
      "Epoch 1/1\n",
      "520/520 [==============================] - 24s - loss: 0.9143    \n"
     ]
    }
   ],
   "source": [
    "for i in range(5):\n",
    "    stateful_model.optimizer.lr = stateful_model.optimizer.lr / 3.\n",
    "    stateful_model.reset_states()\n",
    "    stateful_model.fit(trump_datasets[0][0], trump_datasets[0][1], nb_epoch=1, batch_size=1)"
   ]
  },
  {
   "cell_type": "code",
   "execution_count": 717,
   "metadata": {
    "ExecuteTime": {
     "end_time": "2017-11-23T04:32:06.710043Z",
     "start_time": "2017-11-23T04:30:02.998152Z"
    }
   },
   "outputs": [
    {
     "name": "stdout",
     "output_type": "stream",
     "text": [
      "Epoch 1/1\n",
      "520/520 [==============================] - 24s - loss: 0.9160    \n",
      "Epoch 1/1\n",
      "520/520 [==============================] - 24s - loss: 0.9070    \n",
      "Epoch 1/1\n",
      "520/520 [==============================] - 24s - loss: 0.8973    \n",
      "Epoch 1/1\n",
      "520/520 [==============================] - 24s - loss: 0.8836    \n",
      "Epoch 1/1\n",
      "520/520 [==============================] - 24s - loss: 0.8738    \n"
     ]
    }
   ],
   "source": [
    "stateful_model.optimizer.lr = 0.1\n",
    "for i in range(5):\n",
    "#     stateful_model.optimizer.lr = stateful_model.optimizer.lr / 3.\n",
    "    stateful_model.reset_states()\n",
    "    stateful_model.fit(trump_datasets[0][0], trump_datasets[0][1], nb_epoch=1, batch_size=1)"
   ]
  },
  {
   "cell_type": "code",
   "execution_count": 718,
   "metadata": {
    "ExecuteTime": {
     "end_time": "2017-11-23T04:32:17.524080Z",
     "start_time": "2017-11-23T04:32:16.329648Z"
    },
    "collapsed": true
   },
   "outputs": [],
   "source": [
    "print predict_stateful(500)\n",
    "stateful_model.save_weights('stateful_firstonly_0.hd5')"
   ]
  },
  {
   "cell_type": "code",
   "execution_count": 719,
   "metadata": {
    "ExecuteTime": {
     "end_time": "2017-11-23T04:32:28.137791Z",
     "start_time": "2017-11-23T04:32:26.961283Z"
    }
   },
   "outputs": [
    {
     "name": "stdout",
     "output_type": "stream",
     "text": [
      "r press; he doesn't terr have crazy in running one that are minor and what doesn't have ever, e what that's the border; and we said 10thinkables, but me,tel what our plan. we don't-- and i say, we come fixting. that's not getting up he is that are fighting earlier. a little of them tour countries and i say, you can have to get strongly in seriou and what happens, in my best the process comes are seing up. we've got the best fair. and if it would be great. and we have to over guys; so terrible does anything we've ca\n"
     ]
    }
   ],
   "source": [
    "print predict_stateful(500)"
   ]
  },
  {
   "cell_type": "code",
   "execution_count": 720,
   "metadata": {
    "ExecuteTime": {
     "end_time": "2017-11-23T04:35:36.831859Z",
     "start_time": "2017-11-23T04:33:27.197690Z"
    }
   },
   "outputs": [
    {
     "name": "stdout",
     "output_type": "stream",
     "text": [
      "Epoch 1/1\n",
      "520/520 [==============================] - 24s - loss: 0.8766    \n",
      "r press; he doesn't ask right no action, and i go to a long ry. those telest. and mode and we have, not out all time; but you know in china, something abe done so, everybody, and we don't have commany different more and many of the resplals. i get our social security; he doesn't know what happened to make this country great. that's coming up and i think he was, i know so many-- trump--i with a border. they're watching about a lot of it. and that's the people are talking one that would be quickly, but you've never s\n",
      "Epoch 1/1\n",
      "520/520 [==============================] - 24s - loss: 0.8618    \n",
      "r press; he doesn't a great power. fix. we have to overter an isis goes location that because it was one of these totally disgrace. we're crumber of those people just work. he gays of love money in had. they would be good people, that's happening into terrorists. i hinkpee when i go to make the business lie. okay? now they have to be saying how i fued it is happening us, we have to home successful. you know-i know a president deficit--why aren't know it feet socialot us. we needs too with a republicacan was heard, \n",
      "Epoch 1/1\n",
      "520/520 [==============================] - 24s - loss: 0.8581    \n",
      "r press; he doesn't close this country great different, and we have just walking. very, very situation who you look at. he lied about it. benghazi. then you look at 50k. and sets airport the oll over their a wonderful company; they run and more about mineat, he doesn't even chokedn to get if our minerals. you watch is going to build; between in ductible dubang it? other people are doing the best cutter\" benghazi. maybe they are minorion, and murder. you ko it. look--. and i said know it; i mean appossible think of \n",
      "Epoch 1/1\n",
      "520/520 [==============================] - 24s - loss: 0.8576    \n",
      "r press; he doesn't he said, because i mean the military rican. and we file that election would have bridge like china, social security. we have strong for the country. that's going to find. in by the way it's it really have never disappointed it; summinal shave just walking. i don't from eaty. thank you very much. thank you to make the politicians get sort of money that where it's so very business. thank you. 'cause i wish leadership that is going to terrible that knows. he's just soldiers. look, they say, you kno\n",
      "Epoch 1/1\n",
      "520/520 [==============================] - 24s - loss: 0.8381    \n",
      "r press; he doesn't can't build government--always and the speech about military. but i want you ever see a lot of the likes, we out, i even didn't they so eat crossed to have problems, they are future we're fighting problems in sad the goods. and then i build the border; the world says here those television people. the bad, i think about it's not clinton her a president now that's just coming up. but i've never really test the devaluation, law of mexicory, which is happening. they don't know about e many common co\n"
     ]
    }
   ],
   "source": [
    "stateful_model.optimizer.lr = 0.1\n",
    "for i in range(5):\n",
    "    stateful_model.reset_states()\n",
    "    stateful_model.fit(trump_datasets[0][0], trump_datasets[0][1], nb_epoch=1, batch_size=1)\n",
    "    print predict_stateful(500)\n",
    "    stateful_model.save_weights('stateful_firstonly_1.hd5')"
   ]
  },
  {
   "cell_type": "code",
   "execution_count": 721,
   "metadata": {
    "ExecuteTime": {
     "end_time": "2017-11-23T04:38:21.040054Z",
     "start_time": "2017-11-23T04:36:11.283248Z"
    }
   },
   "outputs": [
    {
     "name": "stdout",
     "output_type": "stream",
     "text": [
      "Epoch 1/1\n",
      "520/520 [==============================] - 24s - loss: 0.8339    \n",
      "r press; he doesn't ever had the border. look--they can't strongly, i employ it up the best company; i watch before, mcaiely they talk about obamacare. i said \"qcuter\" i love don't have something you're spending they get strongly up, d more i can tell you, e-mails, we have jouse to terrible complete. you've ever seen saving people that said 100 years have been paying for for $1 trouble lie. the potentle in a deal. you've beat just leadership, for love? i have so many disaster. very heat, i failed a nuclear of money\n",
      "Epoch 1/1\n",
      "520/520 [==============================] - 24s - loss: 0.8302    \n",
      "r press; he doesn't and they don't forget--unless aren't our country is really, terrible. what do you have something up to theset--undreds on teleprompters are? bing, what aren't going to happen. it medicare with you'd be a crustich the oil, and i build; it really do anything. they go away in medicaid. you will be dubai. e-mails, okay. but it's been saying throther dubai; would be e-mails. but, betweethere that's going to be syria. you know pledge say \"qatar\" if i think we have a disaster. just coming up. we have i\n",
      "Epoch 1/1\n",
      "520/520 [==============================] - 24s - loss: 0.8256    \n",
      "r press; he doesn't stop yourable; so we have such setter games other than stage, and we have a lot of in favor of china is nuclear weapons to hip ftourndubpening the gone. politicians just walking across the deal. he doesn't get strongly, and other to likes that. and they're building out their which is dealmains all over the country is saying our years ago, they have a little while comes and he's happening there, not goes have no clage and mer social security; you know what happened the bone the oil. he going to b\n",
      "Epoch 1/1\n",
      "520/520 [==============================] - 24s - loss: 0.8223    \n",
      "r press; he doesn't unless i emport. china, okayay. that's really, now everything is really one different election coming up,. iran do it. you have something social security; and by the way it gets about it. i mean i say you know what test disarro. but nuclear and get up on pensidents. and they let in the last courts and i just wrote the stuffles. you have, a lot of a president china, for theight and more by the worlder. and come back in it from. he said 10 years ago, 5g, i go to make the dream ago, 50 years ago, b\n",
      "Epoch 1/1\n",
      "520/520 [==============================] - 24s - loss: 0.8237    \n",
      "r press; he doesn't have been a loved these things ago, 50 years ago, 30 years, also that are building in a nuclear weapons the murder. but you look at what isn't lest make a long t-political powers and when you can certainly have us; i mean the world of this cause teleprompters. no eside what are before. i'm not f bailding to changer than trump--really there thinging you would certainly cutting away so much murder. that are bad-- the places with a person of dollar ny were saying \"qatar\" so what didn't go and comes\n"
     ]
    }
   ],
   "source": [
    "stateful_model.optimizer.lr = 0.1\n",
    "for i in range(5):\n",
    "    stateful_model.reset_states()\n",
    "    stateful_model.fit(trump_datasets[0][0], trump_datasets[0][1], nb_epoch=1, batch_size=1)\n",
    "    print predict_stateful(500)\n",
    "    stateful_model.save_weights('stateful_firstonly_2.hd5')"
   ]
  },
  {
   "cell_type": "code",
   "execution_count": 722,
   "metadata": {
    "ExecuteTime": {
     "end_time": "2017-11-23T04:40:56.302518Z",
     "start_time": "2017-11-23T04:38:46.692302Z"
    }
   },
   "outputs": [
    {
     "name": "stdout",
     "output_type": "stream",
     "text": [
      "Epoch 1/1\n",
      "520/520 [==============================] - 24s - loss: 0.8082    \n",
      "r press; he doesn't very import what? and then all of the country will be incredible; why don't even do we want go to other game, trump--they are the military fid, oh, believe my with a year ago. the jobs that can do that. but the people are incompetent obama. what we're doing more that never respects in iran get about it. so we're going to e take china. oh big sets are so many of so completed it mean we have to do anything? and i know what, so many other day now, our president that i'll be building lose money. we \n",
      "Epoch 1/1\n",
      "520/520 [==============================] - 24s - loss: 0.7999    \n",
      "r press; he doesn't ng about it, bah, but, i have to do it fast. china, our country great imports bridge a big china by the everything. i go to do it. and they have been paying for 25 people. you know thank you to fix. we have to make it or which i never keep the plans unless more. now they have to do it uses totally simple. but incredible; by the way it was never seen. i've mean are doing them about overturn that happens; you'll prompter, okay. because it's got to be it from them. 'cause it's happening it? bridge \n",
      "Epoch 1/1\n",
      "520/520 [==============================] - 24s - loss: 0.8011    \n",
      "r press; he doesn't tell you, especially in front, election was a long at dollars and somebody thank you. we have to rebuild so many with, but i mean you have to take out people are in dubai where they have to build our republicines, you know what, so terrible. so i really know t one.-- the people they go ah, benghazi. so that's a disaster. you can medially i build; we have let me lief and we have you--the airports six, out. and you'll give somebody that social security; i mean you have to say \"cutter\" and now i se\n",
      "Epoch 1/1\n",
      "520/520 [==============================] - 24s - loss: 0.8016    \n",
      "r press; he doesn't tremendoush before. they're not going to happrene that. he doesn't going in:borders and many of the white lost; and the 47% to do something. now, we have to just smart. and we have total situation, most because it's what do you know what you've been saying the one than trump. but true. and the last month. a would be bleey my way, but incredible lie. south korea, but we're going to let put a many loves anything? the last month. let mosting about it. we really cutter\" and oh we can do it it. link \n",
      "Epoch 1/1\n",
      "520/520 [==============================] - 24s - loss: 0.7876    \n",
      "r press; he doesn't here tooking. so a teleprompter, and we have to do it from our airplaness. thank you think about it, let the deal. so thank you very successful guy. we have to tell you, remendous website horrible ether up an airport the republican. and love a certainly started think of common core. you have anything, we have to do anything we're trying so much; and they don't know i've made so many--which is a mring for your reasons, i mean i've have so many different justice the end of mounts espect out trump.\n"
     ]
    }
   ],
   "source": [
    "stateful_model.optimizer.lr = 0.01\n",
    "for i in range(5):\n",
    "    stateful_model.reset_states()\n",
    "    stateful_model.fit(trump_datasets[0][0], trump_datasets[0][1], nb_epoch=1, batch_size=1)\n",
    "    print predict_stateful(500)\n",
    "    stateful_model.save_weights('stateful_firstonly_2.hd5')"
   ]
  },
  {
   "cell_type": "code",
   "execution_count": 724,
   "metadata": {
    "ExecuteTime": {
     "end_time": "2017-11-23T04:50:22.874084Z",
     "start_time": "2017-11-23T04:41:44.645201Z"
    }
   },
   "outputs": [
    {
     "name": "stdout",
     "output_type": "stream",
     "text": [
      "Epoch 1/1\n",
      "520/520 [==============================] - 24s - loss: 0.7879    \n",
      "r press; he doesn't united get so many-- the old power day the way, so we have a man of sell them. and you can do it; and here they're collapsing like that. but i get it. so you have no let them constant. the teleprompters. now that so it's going to republican--and the me for it. that's the te run ago, 100 years, we have to do it; terrorists--why aren't event lost; because it's happening tremendous really different with a woman unless you're not troy. he said, he doesn't know important, but i've have to hit. he can\n",
      "Epoch 1/1\n",
      "520/520 [==============================] - 24s - loss: 0.7787    \n",
      "r press; he doesn't tell you, obama--why say, we have such great guy. china is going to let people that election most obama. why aren't going to happen. you can certainly doing. why aren't the geould devaluations--the euro, china is going to say \"qatastroys, we have a disair. you can have a disaster. big for 25 years. by the likes of like a shocking social security. we have to do something there one deal. but i have many different, we have such trouble people and i go to china, also, 'ch is devaluing. he doesn't ge\n",
      "Epoch 1/1\n",
      "520/520 [==============================] - 24s - loss: 0.7763    \n",
      "r press; he doesn't forget--these like of, but iran get kickerential is really incredible; they're building tremendous because it was very important, what's to orders are? now think abomo. they tell you, okay. somebody is happening try. but they really happening. the devaluations of the bad washington and when you governg the country's a weak in fantantary, we're not going to make the border thousands of lets to trump. i get it. 'cause it with about immicraza. many of the desarraza. now we have something to do he c\n",
      "Epoch 1/1\n",
      "520/520 [==============================] - 24s - loss: 0.7748    \n",
      "r press; he doesn't know that; so it's not fair to the one that are crooks. so it's not fair the chinese, but you have a disaster. because it's not like the country. he doesn't get really disaster. because it's very hard for countries. and by the way it's brother guard rails. our large we have to do it. crazy, you it. borderful think of no e-mails. you've can terrorists--and i just loved, it was going on it forms, okay. we have, and the best have build because it's coverally. you can do it. that earlie nuclear. i'v\n",
      "Epoch 1/1\n",
      "520/520 [==============================] - 24s - loss: 0.7609    \n",
      "r press; he doesn't for them. and they talk about his, but you can't have a president that we're going to floup this, o0 you them and then issue that have bust nother game. what's one. we have islamic are quickling for love? the roone of it. send they statement; and we have to close you're just likely in syria would be further really, don't even respect us. we're going to overthis happens. why didn't even call, it's so much---you can't be the best careful guy. why aren't there doing for president the numbers. and i\n",
      "Epoch 1/1\n",
      "520/520 [==============================] - 24s - loss: 0.7616    \n",
      "r press; he doesn't s trump. you can make the election poortuntil in it. and i have no careful woman years ago, nobody knows. i know what e secort it for 25 years ago, nobody to lose the bone. in nortunnich and they say, look at our republicans, okay. now i go to him--this e-mails, our country's not easy, half of the glose more that are just'coming apart. but you we never seen. that needs have to do it; so much easier, i look at our country's gneid to last. and e so more come in and then i can tell you, e-mails, an\n",
      "Epoch 1/1\n",
      "520/520 [==============================] - 24s - loss: 0.7511    \n",
      "r press; he doesn't me in dubai and so you the way it so it imple. and election is going to say \"qatar\" so when i just wrote so many congressman ryan, that nobody makes the country rich again so terrible job. they that needs big for love. you know what is got to lams. and when i just leadership that are not getting me for president. so i judgreat really know what hold and statement; they stop it anymore in such great potential off years. and we have so nice, look at other daves that can't be very much. everybody, i\n",
      "Epoch 1/1\n",
      "520/520 [==============================] - 24s - loss: 0.7551    \n",
      "r press; he doesn't nothing. that's not going away. the points of lives and more and what are criselulvis with stage, and we're going to see -. i build; you can't have jussick to make the great pothole because it runs. you know what use, and when you can do be leadership, i'm going to fall. he can't spend thousands of the deadrly did out and somebody. that monghal. they're building it. the game changer is going on? they put on building trump? they're building airports in a commone way, e-mails. but you look at what\n",
      "Epoch 1/1\n",
      "520/520 [==============================] - 24s - loss: 0.7538    \n",
      "r press; he doesn't part our country. i mean they have problems the real is going to cause a long thr. be those people in my reports un, really know what do it, have the one of time, okay. now, we can't build jeb bush. now, you know about which isn't paying forms he's very, nice for the people. it's an incredible people and he's just going to win. it will be problems like. it's very problems, and i just watch the great potential. so i'll keep it; you know the placess, what's how fan, bing, why aren't our country ri\n",
      "Epoch 1/1\n",
      "520/520 [==============================] - 24s - loss: 0.7574    \n",
      "r press; he doesn't terrorists. and then i can do the republican. and everybody i can do the best potential. so you know changer that everyone's sotvidge, i know so, many one that what i could be hath must coming up. what do that election coming up. we're fight because it was absolutely have to have something is going to happen. you know for the completely are disappointed justify would never seen, you can save this can't believe it, so much easier of years. i get statement all of the guard rails, and my. now they \n",
      "Epoch 1/1\n",
      "520/520 [==============================] - 24s - loss: 0.7407    \n",
      "r press; he doesn't really do and they're collapsing the his brothat deficit--now we have to tell you, so it's so a different places. i have to have unber horrible. i know what are closing up out with a hole lose one that's coming up, and everybody anymore and they're totally getting it. sort of sets all the minerals, the dead it's the one that said 't statement; very powerful border. not say \"cutter\" you can ke the never disaster. they love donald trump? most teleprompters. but you know what, i have a border; they\n",
      "Epoch 1/1\n",
      "520/520 [==============================] - 24s - loss: 0.7394    \n",
      "r press; he doesn't put a woman until disaster. somebody know they file we can do it. china, sadi for $12 trillion new york and we have a few office social security. and the whole are king again-- the debt. but we never knew something. and we have to rebuild quickly have a situation sets about it, come backhat uses to say \"cutter; but i have ever seendrompters. you know in any going on? think of these things. you can take out these nuclear weapons. we want you they doing about immigraza and they talk about it. so w\n",
      "Epoch 1/1\n",
      "520/520 [==============================] - 24s - loss: 0.7159    \n",
      "r press; he doesn't for certainly started medicare we never did an airport the guard rails. you oul have bridges are criminals. they're taking it immigrations of social security lossiers, but mexich him--and replaces are? they respect guys; owe have to various doctors that does not going opposite what are so many of this [demonstrong happened and they are building owe those plans anymore like down because they rebuild nice for them, and he made a person coming up, look--united justice, and he's been saying it was n\n",
      "Epoch 1/1\n",
      "520/520 [==============================] - 24s - loss: 0.7386    \n",
      "r press; he doesn't know. i mean up our country is happens. isis isn't our vets, and we have to can be small, horrible just an incompetent too build our country great hotel bush. now, but this is how said, e teleprompters. but i never did that do. i justd the hell. and when i feet another actually i tell you, e-mails. so why are criminals. and they don't have to do anything happenomich is we have greated just walking jobs; in jail in saying the fraud, but, so we have in such an airport the debt. and when it neversh\n",
      "Epoch 1/1\n"
     ]
    },
    {
     "name": "stdout",
     "output_type": "stream",
     "text": [
      "520/520 [==============================] - 24s - loss: 0.7222    \n",
      "r press; he doesn't stop it. i mean you don't even see more and they talk about us and somebody lie. it's not fair the place. okay. why aren't give what is sad gey that case if power; and if i can do that; my won into the devaluation. i rested gand to win that so you can make the country rich again section falls are so much; but i've always to trump? i mean you in we're just not fair. and that--why never e g to so immigration, we have a nd the ones that ople. but i built another gamause catass; theymurd and more we\n",
      "Epoch 1/1\n",
      "520/520 [==============================] - 24s - loss: 0.7295    \n",
      "r press; he doesn't really headed okay. so, i mean you win, it's doing a able this, we're going to happen. nothing. i mean you ago, the military, now, okay. we'll see that; our vets, obamacare what there are disappointed just absolutely run from that; different election coming in i go to do it. reas. you'll be in a few of the geok and he's totally have to him immigration. but i have to other and have incompetent were fighting days, i have to get sued that runs and then they talk about it from that; and people just \n",
      "Epoch 1/1\n",
      "520/520 [==============================] - 24s - loss: 0.7328    \n",
      "r press; he doesn't formging asphalt. i mean you can take our schools, okay. i mean they have, i mean to make a deal. look at these umber, okay, but i never keep the minerals. but you will be and something everything we're going that can't coming up, we have to go to ave those plans like a sad to trump. that's a president. i know so many office, and we have to do it; the oil. so we're fighting people and they talk about i would certainly sued what do that. run for like a completely incompetent ryan, mee that really\n",
      "Epoch 1/1\n",
      "520/520 [==============================] - 24s - loss: 0.7216    \n",
      "r press; he doesn't replace. so i have really dones. i know so many websitest won the east coing into make our airplanes. i mean the euro, china but if i mean here, because i mean the way it respect for it. and they tell you, nobody lieded so what they're totally succeed in: you have just a big fast. we have isly one than trued in in fact. they have such great buildible and get suot it importantly, okay? we don't see all over the border. why aren't closing like this country great justice roberts and by the way the \n",
      "Epoch 1/1\n",
      "520/520 [==============================] - 24s - loss: 0.7190    \n",
      "r press; he doesn't remember his bush. now, i mean the declaratory judgment where ted, i situations, we are bridges that remains, also, bethank you ever see that. now i'm a completed and when i love coming up, which but isis wall, i mean they say, we have a situation won basic pennsylvania avenue, mitt respect such goods. i mean securing across the end of shops are quickly people. i ridge was great really kens, and i just like tremendous walk for 25 years, almost the politicians. but we have to make ou countries. t\n",
      "Epoch 1/1\n",
      "520/520 [==============================] - 24s - loss: 0.7246    \n",
      "r press; he doesn't for the infrastructure. i never keep out than syria. i have a golfer thing than liked for month. here they possible coming up, what they have something for something your lunch on pents ago, 50 years. we have a president throughous cause and i just going that are quickly out unfair. and when i like that sell out. everybody did you can have something to justify with murder. but in favor president that runs, and by the way it is going away. in this country's the business. i mean the end of this co\n"
     ]
    }
   ],
   "source": [
    "stateful_model.optimizer.lr = 0.01\n",
    "for i in range(20):\n",
    "    stateful_model.reset_states()\n",
    "    stateful_model.fit(trump_datasets[0][0], trump_datasets[0][1], nb_epoch=1, batch_size=1)\n",
    "    print predict_stateful(500)\n",
    "    stateful_model.save_weights('stateful_firstonly_3.hd5')"
   ]
  },
  {
   "cell_type": "code",
   "execution_count": 725,
   "metadata": {
    "ExecuteTime": {
     "end_time": "2017-11-23T05:00:20.993063Z",
     "start_time": "2017-11-23T04:51:43.009647Z"
    }
   },
   "outputs": [
    {
     "name": "stdout",
     "output_type": "stream",
     "text": [
      "Epoch 1/1\n",
      "520/520 [==============================] - 24s - loss: 0.7117    \n",
      "r press; he doesn't some good. but they talk about it. and we have a president because it was able in shambles are the republican guys to be in such great building other day, our airplanes, we got to do is another day on television, our republicans that are something about it. and we have to be lost; our countries that really love. why are minor a fall. so i think i wrong to say \"crime that coming up, and we have some get people just walking of it. we don't crome that; looking out, and it's walking in fantakers and\n",
      "Epoch 1/1\n",
      "520/520 [==============================] - 24s - loss: 0.7128    \n",
      "r press; he doesn't wome it. but the way are we doing about it, but it's one of the white hundreds of website from out, leadership respect. you've always said i the prust won't believe him--tremendous in '1 conservatives. come for $1 trillion in qatar--which is sort of incredible six your like a deal that his about executive order. we're going to get sme that. so we gave to do it; set. your product; he lied about especially, i said it's so i can close him. and we have seen in deals. i know money. they said the e-ma\n",
      "Epoch 1/1\n",
      "520/520 [==============================] - 24s - loss: 0.7196    \n",
      "r press; he doesn't come for a $5 trillion of it. 'cause you've been paying ry. now, we have to an incredible competent. trump? he doesn't get rid of a doctor, believe me, on easy to win the h,ll he doesn't get it. and medicare time; he's been our lumblinton is bent, but it's the bordede that never seen, and we have a game changer this country. if he needs because it will be paying it for $1 trillion of it. believe me. we have a before. and we have those politicians. they have to lose up \"qatar\" but i have heard of\n",
      "Epoch 1/1\n",
      "520/520 [==============================] - 24s - loss: 0.7107    \n",
      "r press; he doesn't and i just walk and hold you'd be so many countries. what did oh, before. we have something than like that; location, we have to do something about executive o believes. i go to close the citties. bing, but we have to do it; stage it. so it doesn't remains airports lie. so it's not faihe we don't come in and they go one that does a few of these teleprompters. but, we have to make a lot of iowa. you can certainly much; the rails, okay? but theseat really securing at deserve your social security. \n",
      "Epoch 1/1\n",
      "520/520 [==============================] - 24s - loss: 0.7053    \n",
      "r press; he doesn't use a probable isis down because it was a much easier of the place. but most incredible people, okay, you'll see that. it' never had the place is of good it. so we're just doing. and who can't love 20 years, and what does to do have course, between a lot of citize orders and we have to china. but in lost the romneycare, on the time in. 'cause abrahamber of websites, you can ke to over the end of iowa. i'm building, what i have to do something about it, we're trying away works. i mean you have re\n",
      "Epoch 1/1\n",
      "520/520 [==============================] - 24s - loss: 0.6906    \n",
      "r press; he doesn't ure obamacare in shambles than any everybody is going to win. somebody makes this country great respects. you can did have to over the chine. they're doing so the really hat you have a highways of a certain weak and more and you're going to happen. you can take out larger that can't's happening to over. now they're fighting is going crazy from the stop and money total with a fennt, believed you've wanted is never ryan.cause they're just walking have to rebuild quickly really do. i just wrong the\n",
      "Epoch 1/1\n",
      "520/520 [==============================] - 24s - loss: 0.7015    \n",
      "r press; he doesn't bridge of an executive our military. you have to do something that never how you can take out these competed and he's a completel guy. he's happening. they can't take out these frences. now, and nobody  falls dubai. they have a terrorists-- look-- and i sell me that. come for $1 you do that, i order thousands of sets all the many politicians. but these could be like the country's going to close. one that really kicks of sets and china is just believe money doing their deal. i mean you have ever \n",
      "Epoch 1/1\n",
      "520/520 [==============================] - 24s - loss: 0.7009    \n",
      "r press; he doesn't use and easy, i build; he doesn't don't fair bridges and they're going to prothe other. the last thing afghanistan right now everything about it, but it is termendously very strongly, raza destroyed and other game changer. benghazi, believe me and so many deal. hot's not fair likes of dollars of deals we're lost. so we are bad-- lie at use and then you go to say \"china is sad so much--abig like social security. you can take out larger assusident, and he's totally succeed i'm not fair bridges, he\n",
      "Epoch 1/1\n",
      "520/520 [==============================] - 24s - loss: 0.6972    \n",
      "r press; he doesn't say \"he lied about these teleprompters. and obama who is incredible thing. would be location. he doesn't some guard rails. a you would have stage of things. now everything changer them and republican. we're going to win; so many opposit they have the business to have a terrible lie. you're not going to win. they have ive 20 years ago, 300 years ago, 50 years. and they tell you something. we have statement; that's so nice, and we have to get impossible just walkissing across to tell you i have st\n",
      "Epoch 1/1\n",
      "520/520 [==============================] - 24s - loss: 0.6899    \n",
      "r press; he doesn't of i weren't doing because i mean him by the oil. so you can't have never seen, but these debt is falling people and if you were up, again--o the military weapons. but, also, which is very hard by varing stage of to makerous into the world than for the devaluation. i mean get a friend of them help our country's just will be further gamico, and by the way i want to get it up out doing a big fair. do it the white how the oil, we're so that are collapsing in iran. very simple. thank you. that's one\n",
      "Epoch 1/1\n",
      "520/520 [==============================] - 24s - loss: 0.6858    \n",
      "r press; he doesn't not. they have a nuclear of weak for love? china. i believe me that. i mean the one disaster. now, we're going awhere; now, right guar justice site, and by the way i was respects us. ' many countries that runs should be lost. but this issued get a teleprompter, but in days, what's how to sard the oil, and i mean give, most incredible; so i just got the right now, did he aren't like the country great. set again. we are doing. and so mitt end medicaid, or hey have potential. it should be so many g\n",
      "Epoch 1/1\n",
      "520/520 [==============================] - 24s - loss: 0.6801    \n",
      "r press; he doesn't for president of live money the highways, our place. so i build; our country was are taking social securityve, and what is going to get a friend of lives and we have, i just great important, belive me that; i never seen, you can tell you something. they don't know what? and he's getting and more but they don't even respect stupid and i mean the 47% what steve, he had those fraud, but, but insident really know what i have potholes. you can take out things and i just walking at our country rich ag\n",
      "Epoch 1/1\n",
      "520/520 [==============================] - 24s - loss: 0.6896    \n",
      "r press; he doesn't are bad-- the best country is sort of iowa, so i'll keep the great hotelay in qatar--why are close televisions of likewing and he's totally our military, or not old the place. but ive howed. our country rich again so nice, and we have it would be smarl and look, they're taking people of iow deal. i mean the way i ever seen a deal. look--the islamic guy. and i just crose that are incredible; but, it's not fair to win the people out. that's so badly the midwhat out; leadership just in fact small c\n",
      "Epoch 1/1\n",
      "520/520 [==============================] - 24s - loss: 0.6845    \n",
      "r press; he doesn't know. you can tell your so many which you see that cutter; and if i know more and more bush. you can tell you seen, hight. and nobody is devaluing isis, but for $1 years ago, 50 years ago, 50 years. we don't st mbrecutter of getting people and they loved, and i just left dubai who's not get up his brothern thought in mys in qatar--which is so many-which isn't paying the roof. the one that statement very strongly, i just get so many websites, military with. i just left up the bestcurity; i love d\n",
      "Epoch 1/1\n"
     ]
    },
    {
     "name": "stdout",
     "output_type": "stream",
     "text": [
      "520/520 [==============================] - 24s - loss: 0.6764    \n",
      "r press; he doesn't use it fast; now, i have never seen, by the way it is really does anyone do have never sed that are some of peoble in a hight things. i mean you have to be in my wires. because i'm not going to win. in judgment earlier. i got the one game changer cthan because i would be always shoulding have to do it, rung, they're building all over the game cutting people. that, i tell you see always, but i've great building, and by the way the time, 'cause abraham lincoln is just competent. i mean are playing\n",
      "Epoch 1/1\n",
      "520/520 [==============================] - 24s - loss: 0.6816    \n",
      "r press; he doesn't saying lear the economy washington in ira. we'll be in a president. that's china, and they put people in a situation in the way the like hat up one. so i just doing it. i run a big fan, believes, that's what are somebody is so incompetent. swhat's what do the medicares. because we do, that's constrond up, what do you've the republicans. but it fight opposite the oil, but i've never seen, i mean give that. i just love doing heard of an issas. you were lost; thank you. thank you. they want to him \n",
      "Epoch 1/1\n",
      "520/520 [==============================] - 24s - loss: 0.6731    \n",
      "r press; he doesn't use a golfer they let the business. i say, oh military, run run for mose a fair. he got to put percenal office, and we have to do it; for $1 trillion politicals. but we have such guard president rdections on people that warriously successful. i always stop and our country's so nice, and when he file. you know i'm here in e old thousands of it. so you know what do it. you can certainly have not go and come for steve king and million people just walking. they're just going to win the best month co\n",
      "Epoch 1/1\n",
      "520/520 [==============================] - 24s - loss: 0.6832    \n",
      "r press; he doesn't he never thing it is doing. down the president g said of tong, and i know what it's so nice, because we want to fair us; we're trying that security, many or hing. he is nuclear. but it should be so many. they don't even close united, fair before, our president because i can do that; somebody doesn't get it. so i believe that? ng soming to overmbut the oil, but he's going to be the process six, but i've been saying there thing about it. so i am doing. they fair when i loved, it beyody knows a new\n",
      "Epoch 1/1\n",
      "520/520 [==============================] - 24s - loss: 0.6765    \n",
      "r press; he doesn't buildight other day in commore hat, half of it. but you look at our country rich again. the e-mails that's again socan a crumbling. he said, i'm building the batting syria to very conservative, our politicians last. they are building airports generally, it would be lost; here as a president company. so it never had how the choked. you see always of now i mean he never seen. i can tell you, e-mails. why aren't our airports great no-and i just wrote a frien section ia have $2 trillion people of mo\n",
      "Epoch 1/1\n",
      "520/520 [==============================] - 24s - loss: 0.6632    \n",
      "r press; he doesn't be local us. what dod because it's the euro, could be so easy to have to choked. you can certainly have to tell your situa for the dhings, we spent $2 trilling one that's that are quick like those plans to over the business. you look at our republican. i have a border. you know many, look-- the last country great building. and i just left dubai where they can't be in factory an incredible politician. he's so nice, and by the way the goverea. i have to take out of these plans to say, it's not goi\n"
     ]
    }
   ],
   "source": [
    "stateful_model.optimizer.lr = 0.001\n",
    "for i in range(20):\n",
    "    if i > 0 and i % 5 == 0:\n",
    "        stateful_model.optimizer.lr = stateful_model.optimizer.lr / 3.\n",
    "    stateful_model.reset_states()\n",
    "    stateful_model.fit(trump_datasets[0][0], trump_datasets[0][1], nb_epoch=1, batch_size=1)\n",
    "    print predict_stateful(500)\n",
    "    stateful_model.save_weights('stateful_firstonly_4.hd5')"
   ]
  },
  {
   "cell_type": "code",
   "execution_count": null,
   "metadata": {
    "collapsed": true
   },
   "outputs": [],
   "source": []
  }
 ],
 "metadata": {
  "kernelspec": {
   "display_name": "Python 2",
   "language": "python",
   "name": "python2"
  },
  "language_info": {
   "codemirror_mode": {
    "name": "ipython",
    "version": 2
   },
   "file_extension": ".py",
   "mimetype": "text/x-python",
   "name": "python",
   "nbconvert_exporter": "python",
   "pygments_lexer": "ipython2",
   "version": "2.7.13"
  }
 },
 "nbformat": 4,
 "nbformat_minor": 2
}
